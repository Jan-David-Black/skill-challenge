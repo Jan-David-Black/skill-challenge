{
 "cells": [
  {
   "attachments": {},
   "cell_type": "markdown",
   "metadata": {},
   "source": [
    "# How to propagate fields in `meow`"
   ]
  },
  {
   "cell_type": "code",
   "execution_count": null,
   "metadata": {},
   "outputs": [],
   "source": [
    "import gdsfactory as gf\n",
    "import meow as mw\n",
    "import numpy as np\n",
    "import matplotlib.pyplot as plt\n",
    "plt.rcParams[\"pcolor.shading\"]=\"auto\""
   ]
  },
  {
   "cell_type": "code",
   "execution_count": null,
   "metadata": {},
   "outputs": [],
   "source": [
    "try:\n",
    "    import klujax\n",
    "except:\n",
    "    import warnings\n",
    "    warnings.warn(\"Klujax could not be loaded falling back to default backend for sax, which is going to be slow\")"
   ]
  },
  {
   "cell_type": "code",
   "execution_count": null,
   "metadata": {},
   "outputs": [],
   "source": [
    "def example_extrusions(\n",
    "    t_slab: float = 0.0,\n",
    "    t_soi: float = 0.4,\n",
    "    t_ox: float = 0.0,\n",
    "):\n",
    "    \"\"\" create some simple extrusion rules\n",
    "    \n",
    "    Args:\n",
    "        t_slab: the slab thickness\n",
    "        t_soi: the SOI thickness\n",
    "        t_ox: the oxide layer thickness\n",
    "    \"\"\"\n",
    "    extrusions = {\n",
    "        (1, 0): [\n",
    "            mw.GdsExtrusionRule(\n",
    "                material=mw.silicon,\n",
    "                h_min=0.0,\n",
    "                h_max=0.0 + t_soi,\n",
    "                mesh_order=1,\n",
    "            ),\n",
    "        ],\n",
    "    }\n",
    "    return extrusions"
   ]
  },
  {
   "cell_type": "code",
   "execution_count": null,
   "metadata": {},
   "outputs": [],
   "source": [
    "l_taper=10\n",
    "l_center=20\n",
    "w_center=3\n",
    "\n",
    "mmi = gf.components.mmi2x2(length_taper=l_taper, \n",
    "   length_mmi=l_center, \n",
    "   width_mmi=w_center)\n",
    "\n",
    "c = gf.Component()\n",
    "ref = c.add_ref(mmi)\n",
    "ref.xmin = 0\n",
    "mmi = c\n",
    "\n",
    "extrusion_rules = example_extrusions()\n",
    "structs = mw.extrude_gds(mmi, extrusion_rules)\n",
    "\n",
    "#mw.visualize(structs, scale=(1, 1, 0.2))"
   ]
  },
  {
   "cell_type": "code",
   "execution_count": null,
   "metadata": {},
   "outputs": [],
   "source": [
    "mmi.plot()"
   ]
  },
  {
   "cell_type": "code",
   "execution_count": null,
   "metadata": {},
   "outputs": [],
   "source": [
    "eps = 1e-10\n",
    "w_sim = w_center + 2\n",
    "h_sim = 2.0\n",
    "mesh = 100\n",
    "num_cells = 10\n",
    "Ls = [l_taper / num_cells]*num_cells\n",
    "Ls[-1] -= eps\n",
    "Ls[0] -= eps\n",
    "Ls += [2*eps, l_center-2*eps, 2*eps] + Ls\n",
    "Ls = [eps] + Ls + [eps]\n",
    "print(Ls)\n",
    "\n",
    "cells = mw.create_cells(\n",
    "    structures=structs,  \n",
    "    mesh=mw.Mesh2d(\n",
    "        x=np.linspace(-w_sim/2, w_sim/2, mesh + 1),\n",
    "        y=np.linspace(-h_sim/2, h_sim/2, mesh + 1),\n",
    "    ),\n",
    "    Ls=Ls\n",
    ")\n",
    "\n",
    "#for cell in cells:\n",
    "# mw.visualize(cell)"
   ]
  },
  {
   "cell_type": "code",
   "execution_count": null,
   "metadata": {},
   "outputs": [],
   "source": [
    "env = mw.Environment(wl=1.55, T=25.0)\n",
    "css = [mw.CrossSection(cell=cell, env=env) for cell in cells]\n",
    "\n",
    "mw.visualize(css[0])\n",
    "mw.visualize(css[-1])"
   ]
  },
  {
   "cell_type": "code",
   "execution_count": null,
   "metadata": {},
   "outputs": [],
   "source": [
    "num_modes=10"
   ]
  },
  {
   "cell_type": "code",
   "execution_count": null,
   "metadata": {},
   "outputs": [],
   "source": [
    "from tqdm.notebook import tqdm\n",
    "modes = [mw.compute_modes(cs, num_modes=num_modes) for cs in tqdm(css)]"
   ]
  },
  {
   "cell_type": "code",
   "execution_count": null,
   "metadata": {},
   "outputs": [],
   "source": [
    "import pickle\n",
    "with open(f\"../assets/modes.pkl\", \"wb\") as file:\n",
    "    pickle.dump(modes, file)"
   ]
  },
  {
   "cell_type": "code",
   "execution_count": null,
   "metadata": {},
   "outputs": [],
   "source": [
    "modes[0] = [modes[0][0] + modes[0][1], modes[0][0] - modes[0][1]] \n",
    "modes[-1] = [modes[-1][0] + modes[-1][1], modes[-1][0] - modes[-1][1]]"
   ]
  },
  {
   "cell_type": "code",
   "execution_count": null,
   "metadata": {},
   "outputs": [],
   "source": [
    "from meow.mode import is_pml_mode\n",
    "modes = [[m for m in modes_ if not is_pml_mode(m,0.3)] for modes_ in modes]"
   ]
  },
  {
   "cell_type": "code",
   "execution_count": null,
   "metadata": {},
   "outputs": [],
   "source": [
    "mw.visualize(modes[0])"
   ]
  },
  {
   "cell_type": "code",
   "execution_count": null,
   "metadata": {},
   "outputs": [],
   "source": [
    "S, port_map = mw.compute_s_matrix(modes)\n",
    "print(port_map)\n",
    "mw.visualize(S)"
   ]
  },
  {
   "cell_type": "code",
   "execution_count": null,
   "metadata": {},
   "outputs": [],
   "source": [
    "from meow.eme.propagate import propagate_modes"
   ]
  },
  {
   "cell_type": "code",
   "execution_count": null,
   "metadata": {},
   "outputs": [],
   "source": [
    "z = np.linspace(0, l_taper*2+l_center, 1000)\n",
    "E, x = propagate_modes(modes, np.array([1,0]), np.array([0,0]), 0.2, z)\n",
    "X, Y = np.meshgrid(z, x)\n",
    "lim = np.quantile(np.abs(E), 0.98)\n",
    "plt.pcolormesh(X, Y, np.abs(E).T, shading=\"nearest\", cmap=\"magma\", vmin=0, vmax=lim)"
   ]
  },
  {
   "cell_type": "code",
   "execution_count": null,
   "metadata": {},
   "outputs": [],
   "source": [
    "z = np.linspace(0, l_taper*2+l_center, 1000)\n",
    "E, x = propagate_modes(modes, np.array([0,0]), np.array([1,1]), 0.2, z)\n",
    "X, Y = np.meshgrid(z, x)\n",
    "lim = np.quantile(np.abs(E), 0.98)\n",
    "plt.pcolormesh(X, Y, np.abs(E).T, shading=\"nearest\", cmap=\"magma\", vmin=0, vmax=lim)"
   ]
  },
  {
   "cell_type": "code",
   "execution_count": null,
   "metadata": {},
   "outputs": [],
   "source": []
  }
 ],
 "metadata": {
  "kernelspec": {
   "display_name": "python3",
   "language": "python",
   "name": "python3"
  }
 },
 "nbformat": 4,
 "nbformat_minor": 4
}

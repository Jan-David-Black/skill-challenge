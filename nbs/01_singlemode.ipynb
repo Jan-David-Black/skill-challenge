{
 "cells": [
  {
   "attachments": {},
   "cell_type": "markdown",
   "metadata": {},
   "source": [
    "# Single Mode\n",
    "\n",
    "> finding the single mode condition\n",
    "\n",
    "The question is concerned with the single mode cutoff of a silicon nitride waveguide:\n",
    "> What’s the maximum waveguide width for a silicon nitride at 1550nm TE polarization for 400nm thick to be single mode?\n",
    "\n",
    "To answer that question lets sweep the effective index of the first couple of modes at different waveguide widths:\n"
   ]
  },
  {
   "cell_type": "code",
   "execution_count": 1,
   "metadata": {},
   "outputs": [],
   "source": [
    "#| default_exp core"
   ]
  },
  {
   "cell_type": "code",
   "execution_count": 2,
   "metadata": {},
   "outputs": [],
   "source": [
    "#| hide\n",
    "from nbdev.showdoc import *"
   ]
  },
  {
   "cell_type": "code",
   "execution_count": 3,
   "metadata": {},
   "outputs": [],
   "source": [
    "#| hide\n",
    "from skill_challenge.util import np, gf, gt, plt, nm"
   ]
  },
  {
   "cell_type": "code",
   "execution_count": 9,
   "metadata": {},
   "outputs": [
    {
     "data": {
      "application/vnd.jupyter.widget-view+json": {
       "model_id": "f8fbc295914e4b49b42289d30593915a",
       "version_major": 2,
       "version_minor": 0
      },
      "text/plain": [
       "  0%|          | 0/22 [00:00<?, ?it/s]"
      ]
     },
     "metadata": {},
     "output_type": "display_data"
    },
    {
     "data": {
      "text/html": [
       "<pre style=\"white-space:pre;overflow-x:auto;line-height:normal;font-family:Menlo,'DejaVu Sans Mono',consolas,'Courier New',monospace\"><span style=\"color: #7fbfbf; text-decoration-color: #7fbfbf\">[15:16:17] </span>WARNING: Mode field at frequency index <span style=\"color: #008080; text-decoration-color: #008080; font-weight: bold\">0</span>, mode index <span style=\"color: #008080; text-decoration-color: #008080; font-weight: bold\">0</span> does not decay at the plane boundaries. <a href=\"file:///usr/local/lib/python3.10/site-packages/tidy3d/log.py\" target=\"_blank\"><span style=\"color: #7f7f7f; text-decoration-color: #7f7f7f\">log.py</span></a><span style=\"color: #7f7f7f; text-decoration-color: #7f7f7f\">:</span><a href=\"file:///usr/local/lib/python3.10/site-packages/tidy3d/log.py#50\" target=\"_blank\"><span style=\"color: #7f7f7f; text-decoration-color: #7f7f7f\">50</span></a>\n",
       "</pre>\n"
      ],
      "text/plain": [
       "\u001b[2;36m[15:16:17]\u001b[0m\u001b[2;36m \u001b[0mWARNING: Mode field at frequency index \u001b[1;36m0\u001b[0m, mode index \u001b[1;36m0\u001b[0m does not decay at the plane boundaries. \u001b]8;id=683468;file:///usr/local/lib/python3.10/site-packages/tidy3d/log.py\u001b\\\u001b[2mlog.py\u001b[0m\u001b]8;;\u001b\\\u001b[2m:\u001b[0m\u001b]8;id=906841;file:///usr/local/lib/python3.10/site-packages/tidy3d/log.py#50\u001b\\\u001b[2m50\u001b[0m\u001b]8;;\u001b\\\n"
      ]
     },
     "metadata": {},
     "output_type": "display_data"
    },
    {
     "data": {
      "text/html": [
       "<pre style=\"white-space:pre;overflow-x:auto;line-height:normal;font-family:Menlo,'DejaVu Sans Mono',consolas,'Courier New',monospace\"><span style=\"color: #7fbfbf; text-decoration-color: #7fbfbf\">[15:16:18] </span>WARNING: Mode field at frequency index <span style=\"color: #008080; text-decoration-color: #008080; font-weight: bold\">0</span>, mode index <span style=\"color: #008080; text-decoration-color: #008080; font-weight: bold\">1</span> does not decay at the plane boundaries. <a href=\"file:///usr/local/lib/python3.10/site-packages/tidy3d/log.py\" target=\"_blank\"><span style=\"color: #7f7f7f; text-decoration-color: #7f7f7f\">log.py</span></a><span style=\"color: #7f7f7f; text-decoration-color: #7f7f7f\">:</span><a href=\"file:///usr/local/lib/python3.10/site-packages/tidy3d/log.py#50\" target=\"_blank\"><span style=\"color: #7f7f7f; text-decoration-color: #7f7f7f\">50</span></a>\n",
       "</pre>\n"
      ],
      "text/plain": [
       "\u001b[2;36m[15:16:18]\u001b[0m\u001b[2;36m \u001b[0mWARNING: Mode field at frequency index \u001b[1;36m0\u001b[0m, mode index \u001b[1;36m1\u001b[0m does not decay at the plane boundaries. \u001b]8;id=131552;file:///usr/local/lib/python3.10/site-packages/tidy3d/log.py\u001b\\\u001b[2mlog.py\u001b[0m\u001b]8;;\u001b\\\u001b[2m:\u001b[0m\u001b]8;id=54432;file:///usr/local/lib/python3.10/site-packages/tidy3d/log.py#50\u001b\\\u001b[2m50\u001b[0m\u001b]8;;\u001b\\\n"
      ]
     },
     "metadata": {},
     "output_type": "display_data"
    },
    {
     "data": {
      "text/html": [
       "<pre style=\"white-space:pre;overflow-x:auto;line-height:normal;font-family:Menlo,'DejaVu Sans Mono',consolas,'Courier New',monospace\"><span style=\"color: #7fbfbf; text-decoration-color: #7fbfbf\">           </span>WARNING: Mode field at frequency index <span style=\"color: #008080; text-decoration-color: #008080; font-weight: bold\">0</span>, mode index <span style=\"color: #008080; text-decoration-color: #008080; font-weight: bold\">2</span> does not decay at the plane boundaries. <a href=\"file:///usr/local/lib/python3.10/site-packages/tidy3d/log.py\" target=\"_blank\"><span style=\"color: #7f7f7f; text-decoration-color: #7f7f7f\">log.py</span></a><span style=\"color: #7f7f7f; text-decoration-color: #7f7f7f\">:</span><a href=\"file:///usr/local/lib/python3.10/site-packages/tidy3d/log.py#50\" target=\"_blank\"><span style=\"color: #7f7f7f; text-decoration-color: #7f7f7f\">50</span></a>\n",
       "</pre>\n"
      ],
      "text/plain": [
       "\u001b[2;36m          \u001b[0m\u001b[2;36m \u001b[0mWARNING: Mode field at frequency index \u001b[1;36m0\u001b[0m, mode index \u001b[1;36m2\u001b[0m does not decay at the plane boundaries. \u001b]8;id=893150;file:///usr/local/lib/python3.10/site-packages/tidy3d/log.py\u001b\\\u001b[2mlog.py\u001b[0m\u001b]8;;\u001b\\\u001b[2m:\u001b[0m\u001b]8;id=323519;file:///usr/local/lib/python3.10/site-packages/tidy3d/log.py#50\u001b\\\u001b[2m50\u001b[0m\u001b]8;;\u001b\\\n"
      ]
     },
     "metadata": {},
     "output_type": "display_data"
    },
    {
     "data": {
      "text/html": [
       "<pre style=\"white-space:pre;overflow-x:auto;line-height:normal;font-family:Menlo,'DejaVu Sans Mono',consolas,'Courier New',monospace\"><span style=\"color: #7fbfbf; text-decoration-color: #7fbfbf\">           </span>WARNING: Mode field at frequency index <span style=\"color: #008080; text-decoration-color: #008080; font-weight: bold\">0</span>, mode index <span style=\"color: #008080; text-decoration-color: #008080; font-weight: bold\">3</span> does not decay at the plane boundaries. <a href=\"file:///usr/local/lib/python3.10/site-packages/tidy3d/log.py\" target=\"_blank\"><span style=\"color: #7f7f7f; text-decoration-color: #7f7f7f\">log.py</span></a><span style=\"color: #7f7f7f; text-decoration-color: #7f7f7f\">:</span><a href=\"file:///usr/local/lib/python3.10/site-packages/tidy3d/log.py#50\" target=\"_blank\"><span style=\"color: #7f7f7f; text-decoration-color: #7f7f7f\">50</span></a>\n",
       "</pre>\n"
      ],
      "text/plain": [
       "\u001b[2;36m          \u001b[0m\u001b[2;36m \u001b[0mWARNING: Mode field at frequency index \u001b[1;36m0\u001b[0m, mode index \u001b[1;36m3\u001b[0m does not decay at the plane boundaries. \u001b]8;id=479337;file:///usr/local/lib/python3.10/site-packages/tidy3d/log.py\u001b\\\u001b[2mlog.py\u001b[0m\u001b]8;;\u001b\\\u001b[2m:\u001b[0m\u001b]8;id=918830;file:///usr/local/lib/python3.10/site-packages/tidy3d/log.py#50\u001b\\\u001b[2m50\u001b[0m\u001b]8;;\u001b\\\n"
      ]
     },
     "metadata": {},
     "output_type": "display_data"
    },
    {
     "data": {
      "text/html": [
       "<pre style=\"white-space:pre;overflow-x:auto;line-height:normal;font-family:Menlo,'DejaVu Sans Mono',consolas,'Courier New',monospace\"><span style=\"color: #7fbfbf; text-decoration-color: #7fbfbf\">[15:16:19] </span>WARNING: Mode field at frequency index <span style=\"color: #008080; text-decoration-color: #008080; font-weight: bold\">0</span>, mode index <span style=\"color: #008080; text-decoration-color: #008080; font-weight: bold\">0</span> does not decay at the plane boundaries. <a href=\"file:///usr/local/lib/python3.10/site-packages/tidy3d/log.py\" target=\"_blank\"><span style=\"color: #7f7f7f; text-decoration-color: #7f7f7f\">log.py</span></a><span style=\"color: #7f7f7f; text-decoration-color: #7f7f7f\">:</span><a href=\"file:///usr/local/lib/python3.10/site-packages/tidy3d/log.py#50\" target=\"_blank\"><span style=\"color: #7f7f7f; text-decoration-color: #7f7f7f\">50</span></a>\n",
       "</pre>\n"
      ],
      "text/plain": [
       "\u001b[2;36m[15:16:19]\u001b[0m\u001b[2;36m \u001b[0mWARNING: Mode field at frequency index \u001b[1;36m0\u001b[0m, mode index \u001b[1;36m0\u001b[0m does not decay at the plane boundaries. \u001b]8;id=661775;file:///usr/local/lib/python3.10/site-packages/tidy3d/log.py\u001b\\\u001b[2mlog.py\u001b[0m\u001b]8;;\u001b\\\u001b[2m:\u001b[0m\u001b]8;id=790590;file:///usr/local/lib/python3.10/site-packages/tidy3d/log.py#50\u001b\\\u001b[2m50\u001b[0m\u001b]8;;\u001b\\\n"
      ]
     },
     "metadata": {},
     "output_type": "display_data"
    },
    {
     "data": {
      "text/html": [
       "<pre style=\"white-space:pre;overflow-x:auto;line-height:normal;font-family:Menlo,'DejaVu Sans Mono',consolas,'Courier New',monospace\"><span style=\"color: #7fbfbf; text-decoration-color: #7fbfbf\">           </span>WARNING: Mode field at frequency index <span style=\"color: #008080; text-decoration-color: #008080; font-weight: bold\">0</span>, mode index <span style=\"color: #008080; text-decoration-color: #008080; font-weight: bold\">1</span> does not decay at the plane boundaries. <a href=\"file:///usr/local/lib/python3.10/site-packages/tidy3d/log.py\" target=\"_blank\"><span style=\"color: #7f7f7f; text-decoration-color: #7f7f7f\">log.py</span></a><span style=\"color: #7f7f7f; text-decoration-color: #7f7f7f\">:</span><a href=\"file:///usr/local/lib/python3.10/site-packages/tidy3d/log.py#50\" target=\"_blank\"><span style=\"color: #7f7f7f; text-decoration-color: #7f7f7f\">50</span></a>\n",
       "</pre>\n"
      ],
      "text/plain": [
       "\u001b[2;36m          \u001b[0m\u001b[2;36m \u001b[0mWARNING: Mode field at frequency index \u001b[1;36m0\u001b[0m, mode index \u001b[1;36m1\u001b[0m does not decay at the plane boundaries. \u001b]8;id=652087;file:///usr/local/lib/python3.10/site-packages/tidy3d/log.py\u001b\\\u001b[2mlog.py\u001b[0m\u001b]8;;\u001b\\\u001b[2m:\u001b[0m\u001b]8;id=231290;file:///usr/local/lib/python3.10/site-packages/tidy3d/log.py#50\u001b\\\u001b[2m50\u001b[0m\u001b]8;;\u001b\\\n"
      ]
     },
     "metadata": {},
     "output_type": "display_data"
    },
    {
     "data": {
      "text/html": [
       "<pre style=\"white-space:pre;overflow-x:auto;line-height:normal;font-family:Menlo,'DejaVu Sans Mono',consolas,'Courier New',monospace\"><span style=\"color: #7fbfbf; text-decoration-color: #7fbfbf\">[15:16:20] </span>WARNING: Mode field at frequency index <span style=\"color: #008080; text-decoration-color: #008080; font-weight: bold\">0</span>, mode index <span style=\"color: #008080; text-decoration-color: #008080; font-weight: bold\">2</span> does not decay at the plane boundaries. <a href=\"file:///usr/local/lib/python3.10/site-packages/tidy3d/log.py\" target=\"_blank\"><span style=\"color: #7f7f7f; text-decoration-color: #7f7f7f\">log.py</span></a><span style=\"color: #7f7f7f; text-decoration-color: #7f7f7f\">:</span><a href=\"file:///usr/local/lib/python3.10/site-packages/tidy3d/log.py#50\" target=\"_blank\"><span style=\"color: #7f7f7f; text-decoration-color: #7f7f7f\">50</span></a>\n",
       "</pre>\n"
      ],
      "text/plain": [
       "\u001b[2;36m[15:16:20]\u001b[0m\u001b[2;36m \u001b[0mWARNING: Mode field at frequency index \u001b[1;36m0\u001b[0m, mode index \u001b[1;36m2\u001b[0m does not decay at the plane boundaries. \u001b]8;id=591991;file:///usr/local/lib/python3.10/site-packages/tidy3d/log.py\u001b\\\u001b[2mlog.py\u001b[0m\u001b]8;;\u001b\\\u001b[2m:\u001b[0m\u001b]8;id=298684;file:///usr/local/lib/python3.10/site-packages/tidy3d/log.py#50\u001b\\\u001b[2m50\u001b[0m\u001b]8;;\u001b\\\n"
      ]
     },
     "metadata": {},
     "output_type": "display_data"
    },
    {
     "data": {
      "text/html": [
       "<pre style=\"white-space:pre;overflow-x:auto;line-height:normal;font-family:Menlo,'DejaVu Sans Mono',consolas,'Courier New',monospace\"><span style=\"color: #7fbfbf; text-decoration-color: #7fbfbf\">           </span>WARNING: Mode field at frequency index <span style=\"color: #008080; text-decoration-color: #008080; font-weight: bold\">0</span>, mode index <span style=\"color: #008080; text-decoration-color: #008080; font-weight: bold\">3</span> does not decay at the plane boundaries. <a href=\"file:///usr/local/lib/python3.10/site-packages/tidy3d/log.py\" target=\"_blank\"><span style=\"color: #7f7f7f; text-decoration-color: #7f7f7f\">log.py</span></a><span style=\"color: #7f7f7f; text-decoration-color: #7f7f7f\">:</span><a href=\"file:///usr/local/lib/python3.10/site-packages/tidy3d/log.py#50\" target=\"_blank\"><span style=\"color: #7f7f7f; text-decoration-color: #7f7f7f\">50</span></a>\n",
       "</pre>\n"
      ],
      "text/plain": [
       "\u001b[2;36m          \u001b[0m\u001b[2;36m \u001b[0mWARNING: Mode field at frequency index \u001b[1;36m0\u001b[0m, mode index \u001b[1;36m3\u001b[0m does not decay at the plane boundaries. \u001b]8;id=447367;file:///usr/local/lib/python3.10/site-packages/tidy3d/log.py\u001b\\\u001b[2mlog.py\u001b[0m\u001b]8;;\u001b\\\u001b[2m:\u001b[0m\u001b]8;id=421115;file:///usr/local/lib/python3.10/site-packages/tidy3d/log.py#50\u001b\\\u001b[2m50\u001b[0m\u001b]8;;\u001b\\\n"
      ]
     },
     "metadata": {},
     "output_type": "display_data"
    },
    {
     "data": {
      "text/html": [
       "<pre style=\"white-space:pre;overflow-x:auto;line-height:normal;font-family:Menlo,'DejaVu Sans Mono',consolas,'Courier New',monospace\"><span style=\"color: #7fbfbf; text-decoration-color: #7fbfbf\">[15:16:22] </span>WARNING: Mode field at frequency index <span style=\"color: #008080; text-decoration-color: #008080; font-weight: bold\">0</span>, mode index <span style=\"color: #008080; text-decoration-color: #008080; font-weight: bold\">0</span> does not decay at the plane boundaries. <a href=\"file:///usr/local/lib/python3.10/site-packages/tidy3d/log.py\" target=\"_blank\"><span style=\"color: #7f7f7f; text-decoration-color: #7f7f7f\">log.py</span></a><span style=\"color: #7f7f7f; text-decoration-color: #7f7f7f\">:</span><a href=\"file:///usr/local/lib/python3.10/site-packages/tidy3d/log.py#50\" target=\"_blank\"><span style=\"color: #7f7f7f; text-decoration-color: #7f7f7f\">50</span></a>\n",
       "</pre>\n"
      ],
      "text/plain": [
       "\u001b[2;36m[15:16:22]\u001b[0m\u001b[2;36m \u001b[0mWARNING: Mode field at frequency index \u001b[1;36m0\u001b[0m, mode index \u001b[1;36m0\u001b[0m does not decay at the plane boundaries. \u001b]8;id=20243;file:///usr/local/lib/python3.10/site-packages/tidy3d/log.py\u001b\\\u001b[2mlog.py\u001b[0m\u001b]8;;\u001b\\\u001b[2m:\u001b[0m\u001b]8;id=1518;file:///usr/local/lib/python3.10/site-packages/tidy3d/log.py#50\u001b\\\u001b[2m50\u001b[0m\u001b]8;;\u001b\\\n"
      ]
     },
     "metadata": {},
     "output_type": "display_data"
    },
    {
     "data": {
      "text/html": [
       "<pre style=\"white-space:pre;overflow-x:auto;line-height:normal;font-family:Menlo,'DejaVu Sans Mono',consolas,'Courier New',monospace\"><span style=\"color: #7fbfbf; text-decoration-color: #7fbfbf\">           </span>WARNING: Mode field at frequency index <span style=\"color: #008080; text-decoration-color: #008080; font-weight: bold\">0</span>, mode index <span style=\"color: #008080; text-decoration-color: #008080; font-weight: bold\">1</span> does not decay at the plane boundaries. <a href=\"file:///usr/local/lib/python3.10/site-packages/tidy3d/log.py\" target=\"_blank\"><span style=\"color: #7f7f7f; text-decoration-color: #7f7f7f\">log.py</span></a><span style=\"color: #7f7f7f; text-decoration-color: #7f7f7f\">:</span><a href=\"file:///usr/local/lib/python3.10/site-packages/tidy3d/log.py#50\" target=\"_blank\"><span style=\"color: #7f7f7f; text-decoration-color: #7f7f7f\">50</span></a>\n",
       "</pre>\n"
      ],
      "text/plain": [
       "\u001b[2;36m          \u001b[0m\u001b[2;36m \u001b[0mWARNING: Mode field at frequency index \u001b[1;36m0\u001b[0m, mode index \u001b[1;36m1\u001b[0m does not decay at the plane boundaries. \u001b]8;id=877500;file:///usr/local/lib/python3.10/site-packages/tidy3d/log.py\u001b\\\u001b[2mlog.py\u001b[0m\u001b]8;;\u001b\\\u001b[2m:\u001b[0m\u001b]8;id=869492;file:///usr/local/lib/python3.10/site-packages/tidy3d/log.py#50\u001b\\\u001b[2m50\u001b[0m\u001b]8;;\u001b\\\n"
      ]
     },
     "metadata": {},
     "output_type": "display_data"
    },
    {
     "data": {
      "text/html": [
       "<pre style=\"white-space:pre;overflow-x:auto;line-height:normal;font-family:Menlo,'DejaVu Sans Mono',consolas,'Courier New',monospace\"><span style=\"color: #7fbfbf; text-decoration-color: #7fbfbf\">           </span>WARNING: Mode field at frequency index <span style=\"color: #008080; text-decoration-color: #008080; font-weight: bold\">0</span>, mode index <span style=\"color: #008080; text-decoration-color: #008080; font-weight: bold\">2</span> does not decay at the plane boundaries. <a href=\"file:///usr/local/lib/python3.10/site-packages/tidy3d/log.py\" target=\"_blank\"><span style=\"color: #7f7f7f; text-decoration-color: #7f7f7f\">log.py</span></a><span style=\"color: #7f7f7f; text-decoration-color: #7f7f7f\">:</span><a href=\"file:///usr/local/lib/python3.10/site-packages/tidy3d/log.py#50\" target=\"_blank\"><span style=\"color: #7f7f7f; text-decoration-color: #7f7f7f\">50</span></a>\n",
       "</pre>\n"
      ],
      "text/plain": [
       "\u001b[2;36m          \u001b[0m\u001b[2;36m \u001b[0mWARNING: Mode field at frequency index \u001b[1;36m0\u001b[0m, mode index \u001b[1;36m2\u001b[0m does not decay at the plane boundaries. \u001b]8;id=610154;file:///usr/local/lib/python3.10/site-packages/tidy3d/log.py\u001b\\\u001b[2mlog.py\u001b[0m\u001b]8;;\u001b\\\u001b[2m:\u001b[0m\u001b]8;id=837998;file:///usr/local/lib/python3.10/site-packages/tidy3d/log.py#50\u001b\\\u001b[2m50\u001b[0m\u001b]8;;\u001b\\\n"
      ]
     },
     "metadata": {},
     "output_type": "display_data"
    },
    {
     "data": {
      "text/html": [
       "<pre style=\"white-space:pre;overflow-x:auto;line-height:normal;font-family:Menlo,'DejaVu Sans Mono',consolas,'Courier New',monospace\"><span style=\"color: #7fbfbf; text-decoration-color: #7fbfbf\">           </span>WARNING: Mode field at frequency index <span style=\"color: #008080; text-decoration-color: #008080; font-weight: bold\">0</span>, mode index <span style=\"color: #008080; text-decoration-color: #008080; font-weight: bold\">3</span> does not decay at the plane boundaries. <a href=\"file:///usr/local/lib/python3.10/site-packages/tidy3d/log.py\" target=\"_blank\"><span style=\"color: #7f7f7f; text-decoration-color: #7f7f7f\">log.py</span></a><span style=\"color: #7f7f7f; text-decoration-color: #7f7f7f\">:</span><a href=\"file:///usr/local/lib/python3.10/site-packages/tidy3d/log.py#50\" target=\"_blank\"><span style=\"color: #7f7f7f; text-decoration-color: #7f7f7f\">50</span></a>\n",
       "</pre>\n"
      ],
      "text/plain": [
       "\u001b[2;36m          \u001b[0m\u001b[2;36m \u001b[0mWARNING: Mode field at frequency index \u001b[1;36m0\u001b[0m, mode index \u001b[1;36m3\u001b[0m does not decay at the plane boundaries. \u001b]8;id=226718;file:///usr/local/lib/python3.10/site-packages/tidy3d/log.py\u001b\\\u001b[2mlog.py\u001b[0m\u001b]8;;\u001b\\\u001b[2m:\u001b[0m\u001b]8;id=512583;file:///usr/local/lib/python3.10/site-packages/tidy3d/log.py#50\u001b\\\u001b[2m50\u001b[0m\u001b]8;;\u001b\\\n"
      ]
     },
     "metadata": {},
     "output_type": "display_data"
    },
    {
     "data": {
      "text/html": [
       "<pre style=\"white-space:pre;overflow-x:auto;line-height:normal;font-family:Menlo,'DejaVu Sans Mono',consolas,'Courier New',monospace\"><span style=\"color: #7fbfbf; text-decoration-color: #7fbfbf\">[15:16:26] </span>WARNING: Mode field at frequency index <span style=\"color: #008080; text-decoration-color: #008080; font-weight: bold\">0</span>, mode index <span style=\"color: #008080; text-decoration-color: #008080; font-weight: bold\">2</span> does not decay at the plane boundaries. <a href=\"file:///usr/local/lib/python3.10/site-packages/tidy3d/log.py\" target=\"_blank\"><span style=\"color: #7f7f7f; text-decoration-color: #7f7f7f\">log.py</span></a><span style=\"color: #7f7f7f; text-decoration-color: #7f7f7f\">:</span><a href=\"file:///usr/local/lib/python3.10/site-packages/tidy3d/log.py#50\" target=\"_blank\"><span style=\"color: #7f7f7f; text-decoration-color: #7f7f7f\">50</span></a>\n",
       "</pre>\n"
      ],
      "text/plain": [
       "\u001b[2;36m[15:16:26]\u001b[0m\u001b[2;36m \u001b[0mWARNING: Mode field at frequency index \u001b[1;36m0\u001b[0m, mode index \u001b[1;36m2\u001b[0m does not decay at the plane boundaries. \u001b]8;id=407289;file:///usr/local/lib/python3.10/site-packages/tidy3d/log.py\u001b\\\u001b[2mlog.py\u001b[0m\u001b]8;;\u001b\\\u001b[2m:\u001b[0m\u001b]8;id=786383;file:///usr/local/lib/python3.10/site-packages/tidy3d/log.py#50\u001b\\\u001b[2m50\u001b[0m\u001b]8;;\u001b\\\n"
      ]
     },
     "metadata": {},
     "output_type": "display_data"
    },
    {
     "data": {
      "text/html": [
       "<pre style=\"white-space:pre;overflow-x:auto;line-height:normal;font-family:Menlo,'DejaVu Sans Mono',consolas,'Courier New',monospace\"><span style=\"color: #7fbfbf; text-decoration-color: #7fbfbf\">           </span>WARNING: Mode field at frequency index <span style=\"color: #008080; text-decoration-color: #008080; font-weight: bold\">0</span>, mode index <span style=\"color: #008080; text-decoration-color: #008080; font-weight: bold\">3</span> does not decay at the plane boundaries. <a href=\"file:///usr/local/lib/python3.10/site-packages/tidy3d/log.py\" target=\"_blank\"><span style=\"color: #7f7f7f; text-decoration-color: #7f7f7f\">log.py</span></a><span style=\"color: #7f7f7f; text-decoration-color: #7f7f7f\">:</span><a href=\"file:///usr/local/lib/python3.10/site-packages/tidy3d/log.py#50\" target=\"_blank\"><span style=\"color: #7f7f7f; text-decoration-color: #7f7f7f\">50</span></a>\n",
       "</pre>\n"
      ],
      "text/plain": [
       "\u001b[2;36m          \u001b[0m\u001b[2;36m \u001b[0mWARNING: Mode field at frequency index \u001b[1;36m0\u001b[0m, mode index \u001b[1;36m3\u001b[0m does not decay at the plane boundaries. \u001b]8;id=440338;file:///usr/local/lib/python3.10/site-packages/tidy3d/log.py\u001b\\\u001b[2mlog.py\u001b[0m\u001b]8;;\u001b\\\u001b[2m:\u001b[0m\u001b]8;id=584211;file:///usr/local/lib/python3.10/site-packages/tidy3d/log.py#50\u001b\\\u001b[2m50\u001b[0m\u001b]8;;\u001b\\\n"
      ]
     },
     "metadata": {},
     "output_type": "display_data"
    },
    {
     "data": {
      "text/html": [
       "<pre style=\"white-space:pre;overflow-x:auto;line-height:normal;font-family:Menlo,'DejaVu Sans Mono',consolas,'Courier New',monospace\"><span style=\"color: #7fbfbf; text-decoration-color: #7fbfbf\">[15:16:29] </span>WARNING: Mode field at frequency index <span style=\"color: #008080; text-decoration-color: #008080; font-weight: bold\">0</span>, mode index <span style=\"color: #008080; text-decoration-color: #008080; font-weight: bold\">2</span> does not decay at the plane boundaries. <a href=\"file:///usr/local/lib/python3.10/site-packages/tidy3d/log.py\" target=\"_blank\"><span style=\"color: #7f7f7f; text-decoration-color: #7f7f7f\">log.py</span></a><span style=\"color: #7f7f7f; text-decoration-color: #7f7f7f\">:</span><a href=\"file:///usr/local/lib/python3.10/site-packages/tidy3d/log.py#50\" target=\"_blank\"><span style=\"color: #7f7f7f; text-decoration-color: #7f7f7f\">50</span></a>\n",
       "</pre>\n"
      ],
      "text/plain": [
       "\u001b[2;36m[15:16:29]\u001b[0m\u001b[2;36m \u001b[0mWARNING: Mode field at frequency index \u001b[1;36m0\u001b[0m, mode index \u001b[1;36m2\u001b[0m does not decay at the plane boundaries. \u001b]8;id=665793;file:///usr/local/lib/python3.10/site-packages/tidy3d/log.py\u001b\\\u001b[2mlog.py\u001b[0m\u001b]8;;\u001b\\\u001b[2m:\u001b[0m\u001b]8;id=678867;file:///usr/local/lib/python3.10/site-packages/tidy3d/log.py#50\u001b\\\u001b[2m50\u001b[0m\u001b]8;;\u001b\\\n"
      ]
     },
     "metadata": {},
     "output_type": "display_data"
    },
    {
     "data": {
      "text/html": [
       "<pre style=\"white-space:pre;overflow-x:auto;line-height:normal;font-family:Menlo,'DejaVu Sans Mono',consolas,'Courier New',monospace\"><span style=\"color: #7fbfbf; text-decoration-color: #7fbfbf\">           </span>WARNING: Mode field at frequency index <span style=\"color: #008080; text-decoration-color: #008080; font-weight: bold\">0</span>, mode index <span style=\"color: #008080; text-decoration-color: #008080; font-weight: bold\">3</span> does not decay at the plane boundaries. <a href=\"file:///usr/local/lib/python3.10/site-packages/tidy3d/log.py\" target=\"_blank\"><span style=\"color: #7f7f7f; text-decoration-color: #7f7f7f\">log.py</span></a><span style=\"color: #7f7f7f; text-decoration-color: #7f7f7f\">:</span><a href=\"file:///usr/local/lib/python3.10/site-packages/tidy3d/log.py#50\" target=\"_blank\"><span style=\"color: #7f7f7f; text-decoration-color: #7f7f7f\">50</span></a>\n",
       "</pre>\n"
      ],
      "text/plain": [
       "\u001b[2;36m          \u001b[0m\u001b[2;36m \u001b[0mWARNING: Mode field at frequency index \u001b[1;36m0\u001b[0m, mode index \u001b[1;36m3\u001b[0m does not decay at the plane boundaries. \u001b]8;id=970462;file:///usr/local/lib/python3.10/site-packages/tidy3d/log.py\u001b\\\u001b[2mlog.py\u001b[0m\u001b]8;;\u001b\\\u001b[2m:\u001b[0m\u001b]8;id=149952;file:///usr/local/lib/python3.10/site-packages/tidy3d/log.py#50\u001b\\\u001b[2m50\u001b[0m\u001b]8;;\u001b\\\n"
      ]
     },
     "metadata": {},
     "output_type": "display_data"
    },
    {
     "data": {
      "text/html": [
       "<pre style=\"white-space:pre;overflow-x:auto;line-height:normal;font-family:Menlo,'DejaVu Sans Mono',consolas,'Courier New',monospace\"><span style=\"color: #7fbfbf; text-decoration-color: #7fbfbf\">[15:16:32] </span>WARNING: Mode field at frequency index <span style=\"color: #008080; text-decoration-color: #008080; font-weight: bold\">0</span>, mode index <span style=\"color: #008080; text-decoration-color: #008080; font-weight: bold\">2</span> does not decay at the plane boundaries. <a href=\"file:///usr/local/lib/python3.10/site-packages/tidy3d/log.py\" target=\"_blank\"><span style=\"color: #7f7f7f; text-decoration-color: #7f7f7f\">log.py</span></a><span style=\"color: #7f7f7f; text-decoration-color: #7f7f7f\">:</span><a href=\"file:///usr/local/lib/python3.10/site-packages/tidy3d/log.py#50\" target=\"_blank\"><span style=\"color: #7f7f7f; text-decoration-color: #7f7f7f\">50</span></a>\n",
       "</pre>\n"
      ],
      "text/plain": [
       "\u001b[2;36m[15:16:32]\u001b[0m\u001b[2;36m \u001b[0mWARNING: Mode field at frequency index \u001b[1;36m0\u001b[0m, mode index \u001b[1;36m2\u001b[0m does not decay at the plane boundaries. \u001b]8;id=635752;file:///usr/local/lib/python3.10/site-packages/tidy3d/log.py\u001b\\\u001b[2mlog.py\u001b[0m\u001b]8;;\u001b\\\u001b[2m:\u001b[0m\u001b]8;id=766015;file:///usr/local/lib/python3.10/site-packages/tidy3d/log.py#50\u001b\\\u001b[2m50\u001b[0m\u001b]8;;\u001b\\\n"
      ]
     },
     "metadata": {},
     "output_type": "display_data"
    },
    {
     "data": {
      "text/html": [
       "<pre style=\"white-space:pre;overflow-x:auto;line-height:normal;font-family:Menlo,'DejaVu Sans Mono',consolas,'Courier New',monospace\"><span style=\"color: #7fbfbf; text-decoration-color: #7fbfbf\">           </span>WARNING: Mode field at frequency index <span style=\"color: #008080; text-decoration-color: #008080; font-weight: bold\">0</span>, mode index <span style=\"color: #008080; text-decoration-color: #008080; font-weight: bold\">3</span> does not decay at the plane boundaries. <a href=\"file:///usr/local/lib/python3.10/site-packages/tidy3d/log.py\" target=\"_blank\"><span style=\"color: #7f7f7f; text-decoration-color: #7f7f7f\">log.py</span></a><span style=\"color: #7f7f7f; text-decoration-color: #7f7f7f\">:</span><a href=\"file:///usr/local/lib/python3.10/site-packages/tidy3d/log.py#50\" target=\"_blank\"><span style=\"color: #7f7f7f; text-decoration-color: #7f7f7f\">50</span></a>\n",
       "</pre>\n"
      ],
      "text/plain": [
       "\u001b[2;36m          \u001b[0m\u001b[2;36m \u001b[0mWARNING: Mode field at frequency index \u001b[1;36m0\u001b[0m, mode index \u001b[1;36m3\u001b[0m does not decay at the plane boundaries. \u001b]8;id=292504;file:///usr/local/lib/python3.10/site-packages/tidy3d/log.py\u001b\\\u001b[2mlog.py\u001b[0m\u001b]8;;\u001b\\\u001b[2m:\u001b[0m\u001b]8;id=153400;file:///usr/local/lib/python3.10/site-packages/tidy3d/log.py#50\u001b\\\u001b[2m50\u001b[0m\u001b]8;;\u001b\\\n"
      ]
     },
     "metadata": {},
     "output_type": "display_data"
    },
    {
     "data": {
      "text/html": [
       "<pre style=\"white-space:pre;overflow-x:auto;line-height:normal;font-family:Menlo,'DejaVu Sans Mono',consolas,'Courier New',monospace\"><span style=\"color: #7fbfbf; text-decoration-color: #7fbfbf\">[15:16:34] </span>WARNING: Mode field at frequency index <span style=\"color: #008080; text-decoration-color: #008080; font-weight: bold\">0</span>, mode index <span style=\"color: #008080; text-decoration-color: #008080; font-weight: bold\">2</span> does not decay at the plane boundaries. <a href=\"file:///usr/local/lib/python3.10/site-packages/tidy3d/log.py\" target=\"_blank\"><span style=\"color: #7f7f7f; text-decoration-color: #7f7f7f\">log.py</span></a><span style=\"color: #7f7f7f; text-decoration-color: #7f7f7f\">:</span><a href=\"file:///usr/local/lib/python3.10/site-packages/tidy3d/log.py#50\" target=\"_blank\"><span style=\"color: #7f7f7f; text-decoration-color: #7f7f7f\">50</span></a>\n",
       "</pre>\n"
      ],
      "text/plain": [
       "\u001b[2;36m[15:16:34]\u001b[0m\u001b[2;36m \u001b[0mWARNING: Mode field at frequency index \u001b[1;36m0\u001b[0m, mode index \u001b[1;36m2\u001b[0m does not decay at the plane boundaries. \u001b]8;id=534302;file:///usr/local/lib/python3.10/site-packages/tidy3d/log.py\u001b\\\u001b[2mlog.py\u001b[0m\u001b]8;;\u001b\\\u001b[2m:\u001b[0m\u001b]8;id=255999;file:///usr/local/lib/python3.10/site-packages/tidy3d/log.py#50\u001b\\\u001b[2m50\u001b[0m\u001b]8;;\u001b\\\n"
      ]
     },
     "metadata": {},
     "output_type": "display_data"
    },
    {
     "data": {
      "text/html": [
       "<pre style=\"white-space:pre;overflow-x:auto;line-height:normal;font-family:Menlo,'DejaVu Sans Mono',consolas,'Courier New',monospace\"><span style=\"color: #7fbfbf; text-decoration-color: #7fbfbf\">[15:16:35] </span>WARNING: Mode field at frequency index <span style=\"color: #008080; text-decoration-color: #008080; font-weight: bold\">0</span>, mode index <span style=\"color: #008080; text-decoration-color: #008080; font-weight: bold\">3</span> does not decay at the plane boundaries. <a href=\"file:///usr/local/lib/python3.10/site-packages/tidy3d/log.py\" target=\"_blank\"><span style=\"color: #7f7f7f; text-decoration-color: #7f7f7f\">log.py</span></a><span style=\"color: #7f7f7f; text-decoration-color: #7f7f7f\">:</span><a href=\"file:///usr/local/lib/python3.10/site-packages/tidy3d/log.py#50\" target=\"_blank\"><span style=\"color: #7f7f7f; text-decoration-color: #7f7f7f\">50</span></a>\n",
       "</pre>\n"
      ],
      "text/plain": [
       "\u001b[2;36m[15:16:35]\u001b[0m\u001b[2;36m \u001b[0mWARNING: Mode field at frequency index \u001b[1;36m0\u001b[0m, mode index \u001b[1;36m3\u001b[0m does not decay at the plane boundaries. \u001b]8;id=418671;file:///usr/local/lib/python3.10/site-packages/tidy3d/log.py\u001b\\\u001b[2mlog.py\u001b[0m\u001b]8;;\u001b\\\u001b[2m:\u001b[0m\u001b]8;id=496298;file:///usr/local/lib/python3.10/site-packages/tidy3d/log.py#50\u001b\\\u001b[2m50\u001b[0m\u001b]8;;\u001b\\\n"
      ]
     },
     "metadata": {},
     "output_type": "display_data"
    },
    {
     "data": {
      "text/html": [
       "<pre style=\"white-space:pre;overflow-x:auto;line-height:normal;font-family:Menlo,'DejaVu Sans Mono',consolas,'Courier New',monospace\"><span style=\"color: #7fbfbf; text-decoration-color: #7fbfbf\">[15:16:38] </span>WARNING: Mode field at frequency index <span style=\"color: #008080; text-decoration-color: #008080; font-weight: bold\">0</span>, mode index <span style=\"color: #008080; text-decoration-color: #008080; font-weight: bold\">2</span> does not decay at the plane boundaries. <a href=\"file:///usr/local/lib/python3.10/site-packages/tidy3d/log.py\" target=\"_blank\"><span style=\"color: #7f7f7f; text-decoration-color: #7f7f7f\">log.py</span></a><span style=\"color: #7f7f7f; text-decoration-color: #7f7f7f\">:</span><a href=\"file:///usr/local/lib/python3.10/site-packages/tidy3d/log.py#50\" target=\"_blank\"><span style=\"color: #7f7f7f; text-decoration-color: #7f7f7f\">50</span></a>\n",
       "</pre>\n"
      ],
      "text/plain": [
       "\u001b[2;36m[15:16:38]\u001b[0m\u001b[2;36m \u001b[0mWARNING: Mode field at frequency index \u001b[1;36m0\u001b[0m, mode index \u001b[1;36m2\u001b[0m does not decay at the plane boundaries. \u001b]8;id=511062;file:///usr/local/lib/python3.10/site-packages/tidy3d/log.py\u001b\\\u001b[2mlog.py\u001b[0m\u001b]8;;\u001b\\\u001b[2m:\u001b[0m\u001b]8;id=574517;file:///usr/local/lib/python3.10/site-packages/tidy3d/log.py#50\u001b\\\u001b[2m50\u001b[0m\u001b]8;;\u001b\\\n"
      ]
     },
     "metadata": {},
     "output_type": "display_data"
    },
    {
     "data": {
      "text/html": [
       "<pre style=\"white-space:pre;overflow-x:auto;line-height:normal;font-family:Menlo,'DejaVu Sans Mono',consolas,'Courier New',monospace\"><span style=\"color: #7fbfbf; text-decoration-color: #7fbfbf\">           </span>WARNING: Mode field at frequency index <span style=\"color: #008080; text-decoration-color: #008080; font-weight: bold\">0</span>, mode index <span style=\"color: #008080; text-decoration-color: #008080; font-weight: bold\">3</span> does not decay at the plane boundaries. <a href=\"file:///usr/local/lib/python3.10/site-packages/tidy3d/log.py\" target=\"_blank\"><span style=\"color: #7f7f7f; text-decoration-color: #7f7f7f\">log.py</span></a><span style=\"color: #7f7f7f; text-decoration-color: #7f7f7f\">:</span><a href=\"file:///usr/local/lib/python3.10/site-packages/tidy3d/log.py#50\" target=\"_blank\"><span style=\"color: #7f7f7f; text-decoration-color: #7f7f7f\">50</span></a>\n",
       "</pre>\n"
      ],
      "text/plain": [
       "\u001b[2;36m          \u001b[0m\u001b[2;36m \u001b[0mWARNING: Mode field at frequency index \u001b[1;36m0\u001b[0m, mode index \u001b[1;36m3\u001b[0m does not decay at the plane boundaries. \u001b]8;id=549820;file:///usr/local/lib/python3.10/site-packages/tidy3d/log.py\u001b\\\u001b[2mlog.py\u001b[0m\u001b]8;;\u001b\\\u001b[2m:\u001b[0m\u001b]8;id=336270;file:///usr/local/lib/python3.10/site-packages/tidy3d/log.py#50\u001b\\\u001b[2m50\u001b[0m\u001b]8;;\u001b\\\n"
      ]
     },
     "metadata": {},
     "output_type": "display_data"
    },
    {
     "data": {
      "text/html": [
       "<pre style=\"white-space:pre;overflow-x:auto;line-height:normal;font-family:Menlo,'DejaVu Sans Mono',consolas,'Courier New',monospace\"><span style=\"color: #7fbfbf; text-decoration-color: #7fbfbf\">[15:16:40] </span>WARNING: Mode field at frequency index <span style=\"color: #008080; text-decoration-color: #008080; font-weight: bold\">0</span>, mode index <span style=\"color: #008080; text-decoration-color: #008080; font-weight: bold\">2</span> does not decay at the plane boundaries. <a href=\"file:///usr/local/lib/python3.10/site-packages/tidy3d/log.py\" target=\"_blank\"><span style=\"color: #7f7f7f; text-decoration-color: #7f7f7f\">log.py</span></a><span style=\"color: #7f7f7f; text-decoration-color: #7f7f7f\">:</span><a href=\"file:///usr/local/lib/python3.10/site-packages/tidy3d/log.py#50\" target=\"_blank\"><span style=\"color: #7f7f7f; text-decoration-color: #7f7f7f\">50</span></a>\n",
       "</pre>\n"
      ],
      "text/plain": [
       "\u001b[2;36m[15:16:40]\u001b[0m\u001b[2;36m \u001b[0mWARNING: Mode field at frequency index \u001b[1;36m0\u001b[0m, mode index \u001b[1;36m2\u001b[0m does not decay at the plane boundaries. \u001b]8;id=169718;file:///usr/local/lib/python3.10/site-packages/tidy3d/log.py\u001b\\\u001b[2mlog.py\u001b[0m\u001b]8;;\u001b\\\u001b[2m:\u001b[0m\u001b]8;id=962777;file:///usr/local/lib/python3.10/site-packages/tidy3d/log.py#50\u001b\\\u001b[2m50\u001b[0m\u001b]8;;\u001b\\\n"
      ]
     },
     "metadata": {},
     "output_type": "display_data"
    },
    {
     "data": {
      "text/html": [
       "<pre style=\"white-space:pre;overflow-x:auto;line-height:normal;font-family:Menlo,'DejaVu Sans Mono',consolas,'Courier New',monospace\"><span style=\"color: #7fbfbf; text-decoration-color: #7fbfbf\">           </span>WARNING: Mode field at frequency index <span style=\"color: #008080; text-decoration-color: #008080; font-weight: bold\">0</span>, mode index <span style=\"color: #008080; text-decoration-color: #008080; font-weight: bold\">3</span> does not decay at the plane boundaries. <a href=\"file:///usr/local/lib/python3.10/site-packages/tidy3d/log.py\" target=\"_blank\"><span style=\"color: #7f7f7f; text-decoration-color: #7f7f7f\">log.py</span></a><span style=\"color: #7f7f7f; text-decoration-color: #7f7f7f\">:</span><a href=\"file:///usr/local/lib/python3.10/site-packages/tidy3d/log.py#50\" target=\"_blank\"><span style=\"color: #7f7f7f; text-decoration-color: #7f7f7f\">50</span></a>\n",
       "</pre>\n"
      ],
      "text/plain": [
       "\u001b[2;36m          \u001b[0m\u001b[2;36m \u001b[0mWARNING: Mode field at frequency index \u001b[1;36m0\u001b[0m, mode index \u001b[1;36m3\u001b[0m does not decay at the plane boundaries. \u001b]8;id=2644;file:///usr/local/lib/python3.10/site-packages/tidy3d/log.py\u001b\\\u001b[2mlog.py\u001b[0m\u001b]8;;\u001b\\\u001b[2m:\u001b[0m\u001b]8;id=698974;file:///usr/local/lib/python3.10/site-packages/tidy3d/log.py#50\u001b\\\u001b[2m50\u001b[0m\u001b]8;;\u001b\\\n"
      ]
     },
     "metadata": {},
     "output_type": "display_data"
    },
    {
     "data": {
      "text/html": [
       "<pre style=\"white-space:pre;overflow-x:auto;line-height:normal;font-family:Menlo,'DejaVu Sans Mono',consolas,'Courier New',monospace\"><span style=\"color: #7fbfbf; text-decoration-color: #7fbfbf\">[15:16:43] </span>WARNING: Mode field at frequency index <span style=\"color: #008080; text-decoration-color: #008080; font-weight: bold\">0</span>, mode index <span style=\"color: #008080; text-decoration-color: #008080; font-weight: bold\">2</span> does not decay at the plane boundaries. <a href=\"file:///usr/local/lib/python3.10/site-packages/tidy3d/log.py\" target=\"_blank\"><span style=\"color: #7f7f7f; text-decoration-color: #7f7f7f\">log.py</span></a><span style=\"color: #7f7f7f; text-decoration-color: #7f7f7f\">:</span><a href=\"file:///usr/local/lib/python3.10/site-packages/tidy3d/log.py#50\" target=\"_blank\"><span style=\"color: #7f7f7f; text-decoration-color: #7f7f7f\">50</span></a>\n",
       "</pre>\n"
      ],
      "text/plain": [
       "\u001b[2;36m[15:16:43]\u001b[0m\u001b[2;36m \u001b[0mWARNING: Mode field at frequency index \u001b[1;36m0\u001b[0m, mode index \u001b[1;36m2\u001b[0m does not decay at the plane boundaries. \u001b]8;id=710936;file:///usr/local/lib/python3.10/site-packages/tidy3d/log.py\u001b\\\u001b[2mlog.py\u001b[0m\u001b]8;;\u001b\\\u001b[2m:\u001b[0m\u001b]8;id=936749;file:///usr/local/lib/python3.10/site-packages/tidy3d/log.py#50\u001b\\\u001b[2m50\u001b[0m\u001b]8;;\u001b\\\n"
      ]
     },
     "metadata": {},
     "output_type": "display_data"
    },
    {
     "data": {
      "text/html": [
       "<pre style=\"white-space:pre;overflow-x:auto;line-height:normal;font-family:Menlo,'DejaVu Sans Mono',consolas,'Courier New',monospace\"><span style=\"color: #7fbfbf; text-decoration-color: #7fbfbf\">[15:16:44] </span>WARNING: Mode field at frequency index <span style=\"color: #008080; text-decoration-color: #008080; font-weight: bold\">0</span>, mode index <span style=\"color: #008080; text-decoration-color: #008080; font-weight: bold\">3</span> does not decay at the plane boundaries. <a href=\"file:///usr/local/lib/python3.10/site-packages/tidy3d/log.py\" target=\"_blank\"><span style=\"color: #7f7f7f; text-decoration-color: #7f7f7f\">log.py</span></a><span style=\"color: #7f7f7f; text-decoration-color: #7f7f7f\">:</span><a href=\"file:///usr/local/lib/python3.10/site-packages/tidy3d/log.py#50\" target=\"_blank\"><span style=\"color: #7f7f7f; text-decoration-color: #7f7f7f\">50</span></a>\n",
       "</pre>\n"
      ],
      "text/plain": [
       "\u001b[2;36m[15:16:44]\u001b[0m\u001b[2;36m \u001b[0mWARNING: Mode field at frequency index \u001b[1;36m0\u001b[0m, mode index \u001b[1;36m3\u001b[0m does not decay at the plane boundaries. \u001b]8;id=952208;file:///usr/local/lib/python3.10/site-packages/tidy3d/log.py\u001b\\\u001b[2mlog.py\u001b[0m\u001b]8;;\u001b\\\u001b[2m:\u001b[0m\u001b]8;id=220281;file:///usr/local/lib/python3.10/site-packages/tidy3d/log.py#50\u001b\\\u001b[2m50\u001b[0m\u001b]8;;\u001b\\\n"
      ]
     },
     "metadata": {},
     "output_type": "display_data"
    },
    {
     "data": {
      "text/html": [
       "<pre style=\"white-space:pre;overflow-x:auto;line-height:normal;font-family:Menlo,'DejaVu Sans Mono',consolas,'Courier New',monospace\"><span style=\"color: #7fbfbf; text-decoration-color: #7fbfbf\">[15:16:46] </span>WARNING: Mode field at frequency index <span style=\"color: #008080; text-decoration-color: #008080; font-weight: bold\">0</span>, mode index <span style=\"color: #008080; text-decoration-color: #008080; font-weight: bold\">2</span> does not decay at the plane boundaries. <a href=\"file:///usr/local/lib/python3.10/site-packages/tidy3d/log.py\" target=\"_blank\"><span style=\"color: #7f7f7f; text-decoration-color: #7f7f7f\">log.py</span></a><span style=\"color: #7f7f7f; text-decoration-color: #7f7f7f\">:</span><a href=\"file:///usr/local/lib/python3.10/site-packages/tidy3d/log.py#50\" target=\"_blank\"><span style=\"color: #7f7f7f; text-decoration-color: #7f7f7f\">50</span></a>\n",
       "</pre>\n"
      ],
      "text/plain": [
       "\u001b[2;36m[15:16:46]\u001b[0m\u001b[2;36m \u001b[0mWARNING: Mode field at frequency index \u001b[1;36m0\u001b[0m, mode index \u001b[1;36m2\u001b[0m does not decay at the plane boundaries. \u001b]8;id=573777;file:///usr/local/lib/python3.10/site-packages/tidy3d/log.py\u001b\\\u001b[2mlog.py\u001b[0m\u001b]8;;\u001b\\\u001b[2m:\u001b[0m\u001b]8;id=608028;file:///usr/local/lib/python3.10/site-packages/tidy3d/log.py#50\u001b\\\u001b[2m50\u001b[0m\u001b]8;;\u001b\\\n"
      ]
     },
     "metadata": {},
     "output_type": "display_data"
    },
    {
     "data": {
      "text/html": [
       "<pre style=\"white-space:pre;overflow-x:auto;line-height:normal;font-family:Menlo,'DejaVu Sans Mono',consolas,'Courier New',monospace\"><span style=\"color: #7fbfbf; text-decoration-color: #7fbfbf\">           </span>WARNING: Mode field at frequency index <span style=\"color: #008080; text-decoration-color: #008080; font-weight: bold\">0</span>, mode index <span style=\"color: #008080; text-decoration-color: #008080; font-weight: bold\">3</span> does not decay at the plane boundaries. <a href=\"file:///usr/local/lib/python3.10/site-packages/tidy3d/log.py\" target=\"_blank\"><span style=\"color: #7f7f7f; text-decoration-color: #7f7f7f\">log.py</span></a><span style=\"color: #7f7f7f; text-decoration-color: #7f7f7f\">:</span><a href=\"file:///usr/local/lib/python3.10/site-packages/tidy3d/log.py#50\" target=\"_blank\"><span style=\"color: #7f7f7f; text-decoration-color: #7f7f7f\">50</span></a>\n",
       "</pre>\n"
      ],
      "text/plain": [
       "\u001b[2;36m          \u001b[0m\u001b[2;36m \u001b[0mWARNING: Mode field at frequency index \u001b[1;36m0\u001b[0m, mode index \u001b[1;36m3\u001b[0m does not decay at the plane boundaries. \u001b]8;id=450683;file:///usr/local/lib/python3.10/site-packages/tidy3d/log.py\u001b\\\u001b[2mlog.py\u001b[0m\u001b]8;;\u001b\\\u001b[2m:\u001b[0m\u001b]8;id=157698;file:///usr/local/lib/python3.10/site-packages/tidy3d/log.py#50\u001b\\\u001b[2m50\u001b[0m\u001b]8;;\u001b\\\n"
      ]
     },
     "metadata": {},
     "output_type": "display_data"
    },
    {
     "data": {
      "text/html": [
       "<pre style=\"white-space:pre;overflow-x:auto;line-height:normal;font-family:Menlo,'DejaVu Sans Mono',consolas,'Courier New',monospace\"><span style=\"color: #7fbfbf; text-decoration-color: #7fbfbf\">[15:16:49] </span>WARNING: Mode field at frequency index <span style=\"color: #008080; text-decoration-color: #008080; font-weight: bold\">0</span>, mode index <span style=\"color: #008080; text-decoration-color: #008080; font-weight: bold\">2</span> does not decay at the plane boundaries. <a href=\"file:///usr/local/lib/python3.10/site-packages/tidy3d/log.py\" target=\"_blank\"><span style=\"color: #7f7f7f; text-decoration-color: #7f7f7f\">log.py</span></a><span style=\"color: #7f7f7f; text-decoration-color: #7f7f7f\">:</span><a href=\"file:///usr/local/lib/python3.10/site-packages/tidy3d/log.py#50\" target=\"_blank\"><span style=\"color: #7f7f7f; text-decoration-color: #7f7f7f\">50</span></a>\n",
       "</pre>\n"
      ],
      "text/plain": [
       "\u001b[2;36m[15:16:49]\u001b[0m\u001b[2;36m \u001b[0mWARNING: Mode field at frequency index \u001b[1;36m0\u001b[0m, mode index \u001b[1;36m2\u001b[0m does not decay at the plane boundaries. \u001b]8;id=697970;file:///usr/local/lib/python3.10/site-packages/tidy3d/log.py\u001b\\\u001b[2mlog.py\u001b[0m\u001b]8;;\u001b\\\u001b[2m:\u001b[0m\u001b]8;id=360647;file:///usr/local/lib/python3.10/site-packages/tidy3d/log.py#50\u001b\\\u001b[2m50\u001b[0m\u001b]8;;\u001b\\\n"
      ]
     },
     "metadata": {},
     "output_type": "display_data"
    },
    {
     "data": {
      "text/html": [
       "<pre style=\"white-space:pre;overflow-x:auto;line-height:normal;font-family:Menlo,'DejaVu Sans Mono',consolas,'Courier New',monospace\"><span style=\"color: #7fbfbf; text-decoration-color: #7fbfbf\">           </span>WARNING: Mode field at frequency index <span style=\"color: #008080; text-decoration-color: #008080; font-weight: bold\">0</span>, mode index <span style=\"color: #008080; text-decoration-color: #008080; font-weight: bold\">3</span> does not decay at the plane boundaries. <a href=\"file:///usr/local/lib/python3.10/site-packages/tidy3d/log.py\" target=\"_blank\"><span style=\"color: #7f7f7f; text-decoration-color: #7f7f7f\">log.py</span></a><span style=\"color: #7f7f7f; text-decoration-color: #7f7f7f\">:</span><a href=\"file:///usr/local/lib/python3.10/site-packages/tidy3d/log.py#50\" target=\"_blank\"><span style=\"color: #7f7f7f; text-decoration-color: #7f7f7f\">50</span></a>\n",
       "</pre>\n"
      ],
      "text/plain": [
       "\u001b[2;36m          \u001b[0m\u001b[2;36m \u001b[0mWARNING: Mode field at frequency index \u001b[1;36m0\u001b[0m, mode index \u001b[1;36m3\u001b[0m does not decay at the plane boundaries. \u001b]8;id=358422;file:///usr/local/lib/python3.10/site-packages/tidy3d/log.py\u001b\\\u001b[2mlog.py\u001b[0m\u001b]8;;\u001b\\\u001b[2m:\u001b[0m\u001b]8;id=469518;file:///usr/local/lib/python3.10/site-packages/tidy3d/log.py#50\u001b\\\u001b[2m50\u001b[0m\u001b]8;;\u001b\\\n"
      ]
     },
     "metadata": {},
     "output_type": "display_data"
    },
    {
     "data": {
      "text/html": [
       "<pre style=\"white-space:pre;overflow-x:auto;line-height:normal;font-family:Menlo,'DejaVu Sans Mono',consolas,'Courier New',monospace\"><span style=\"color: #7fbfbf; text-decoration-color: #7fbfbf\">[15:16:53] </span>WARNING: Mode field at frequency index <span style=\"color: #008080; text-decoration-color: #008080; font-weight: bold\">0</span>, mode index <span style=\"color: #008080; text-decoration-color: #008080; font-weight: bold\">2</span> does not decay at the plane boundaries. <a href=\"file:///usr/local/lib/python3.10/site-packages/tidy3d/log.py\" target=\"_blank\"><span style=\"color: #7f7f7f; text-decoration-color: #7f7f7f\">log.py</span></a><span style=\"color: #7f7f7f; text-decoration-color: #7f7f7f\">:</span><a href=\"file:///usr/local/lib/python3.10/site-packages/tidy3d/log.py#50\" target=\"_blank\"><span style=\"color: #7f7f7f; text-decoration-color: #7f7f7f\">50</span></a>\n",
       "</pre>\n"
      ],
      "text/plain": [
       "\u001b[2;36m[15:16:53]\u001b[0m\u001b[2;36m \u001b[0mWARNING: Mode field at frequency index \u001b[1;36m0\u001b[0m, mode index \u001b[1;36m2\u001b[0m does not decay at the plane boundaries. \u001b]8;id=920387;file:///usr/local/lib/python3.10/site-packages/tidy3d/log.py\u001b\\\u001b[2mlog.py\u001b[0m\u001b]8;;\u001b\\\u001b[2m:\u001b[0m\u001b]8;id=96224;file:///usr/local/lib/python3.10/site-packages/tidy3d/log.py#50\u001b\\\u001b[2m50\u001b[0m\u001b]8;;\u001b\\\n"
      ]
     },
     "metadata": {},
     "output_type": "display_data"
    },
    {
     "data": {
      "text/html": [
       "<pre style=\"white-space:pre;overflow-x:auto;line-height:normal;font-family:Menlo,'DejaVu Sans Mono',consolas,'Courier New',monospace\"><span style=\"color: #7fbfbf; text-decoration-color: #7fbfbf\">           </span>WARNING: Mode field at frequency index <span style=\"color: #008080; text-decoration-color: #008080; font-weight: bold\">0</span>, mode index <span style=\"color: #008080; text-decoration-color: #008080; font-weight: bold\">3</span> does not decay at the plane boundaries. <a href=\"file:///usr/local/lib/python3.10/site-packages/tidy3d/log.py\" target=\"_blank\"><span style=\"color: #7f7f7f; text-decoration-color: #7f7f7f\">log.py</span></a><span style=\"color: #7f7f7f; text-decoration-color: #7f7f7f\">:</span><a href=\"file:///usr/local/lib/python3.10/site-packages/tidy3d/log.py#50\" target=\"_blank\"><span style=\"color: #7f7f7f; text-decoration-color: #7f7f7f\">50</span></a>\n",
       "</pre>\n"
      ],
      "text/plain": [
       "\u001b[2;36m          \u001b[0m\u001b[2;36m \u001b[0mWARNING: Mode field at frequency index \u001b[1;36m0\u001b[0m, mode index \u001b[1;36m3\u001b[0m does not decay at the plane boundaries. \u001b]8;id=719058;file:///usr/local/lib/python3.10/site-packages/tidy3d/log.py\u001b\\\u001b[2mlog.py\u001b[0m\u001b]8;;\u001b\\\u001b[2m:\u001b[0m\u001b]8;id=837838;file:///usr/local/lib/python3.10/site-packages/tidy3d/log.py#50\u001b\\\u001b[2m50\u001b[0m\u001b]8;;\u001b\\\n"
      ]
     },
     "metadata": {},
     "output_type": "display_data"
    },
    {
     "data": {
      "text/html": [
       "<pre style=\"white-space:pre;overflow-x:auto;line-height:normal;font-family:Menlo,'DejaVu Sans Mono',consolas,'Courier New',monospace\"><span style=\"color: #7fbfbf; text-decoration-color: #7fbfbf\">[15:16:56] </span>WARNING: Mode field at frequency index <span style=\"color: #008080; text-decoration-color: #008080; font-weight: bold\">0</span>, mode index <span style=\"color: #008080; text-decoration-color: #008080; font-weight: bold\">3</span> does not decay at the plane boundaries. <a href=\"file:///usr/local/lib/python3.10/site-packages/tidy3d/log.py\" target=\"_blank\"><span style=\"color: #7f7f7f; text-decoration-color: #7f7f7f\">log.py</span></a><span style=\"color: #7f7f7f; text-decoration-color: #7f7f7f\">:</span><a href=\"file:///usr/local/lib/python3.10/site-packages/tidy3d/log.py#50\" target=\"_blank\"><span style=\"color: #7f7f7f; text-decoration-color: #7f7f7f\">50</span></a>\n",
       "</pre>\n"
      ],
      "text/plain": [
       "\u001b[2;36m[15:16:56]\u001b[0m\u001b[2;36m \u001b[0mWARNING: Mode field at frequency index \u001b[1;36m0\u001b[0m, mode index \u001b[1;36m3\u001b[0m does not decay at the plane boundaries. \u001b]8;id=75128;file:///usr/local/lib/python3.10/site-packages/tidy3d/log.py\u001b\\\u001b[2mlog.py\u001b[0m\u001b]8;;\u001b\\\u001b[2m:\u001b[0m\u001b]8;id=620001;file:///usr/local/lib/python3.10/site-packages/tidy3d/log.py#50\u001b\\\u001b[2m50\u001b[0m\u001b]8;;\u001b\\\n"
      ]
     },
     "metadata": {},
     "output_type": "display_data"
    },
    {
     "data": {
      "application/vnd.jupyter.widget-view+json": {
       "model_id": "c3b1b89afd8b490ebad8da0dbfbd4595",
       "version_major": 2,
       "version_minor": 0
      },
      "text/plain": [
       "  0%|          | 0/22 [00:00<?, ?it/s]"
      ]
     },
     "metadata": {},
     "output_type": "display_data"
    }
   ],
   "source": [
    "strip = gt.modes.Waveguide(\n",
    "    wavelength=1.55,\n",
    "    core_width=1.0,\n",
    "    slab_thickness=0.0,\n",
    "    core_material=\"sin\",\n",
    "    clad_material=\"sio2\",\n",
    "    core_thickness=400 * nm,\n",
    "    num_modes=4,\n",
    ")\n",
    "\n",
    "light_line = 1.44\n",
    "w = np.linspace(50 * nm, 1100 * nm, 22)\n",
    "\n",
    "n_eff = gt.modes.sweep_n_eff(strip, core_width=w)\n",
    "te_pol = gt.modes._sweep(strip, \"TE_pol_fraction\", core_width=w)"
   ]
  },
  {
   "attachments": {},
   "cell_type": "markdown",
   "metadata": {},
   "source": [
    "And also plot the results:"
   ]
  },
  {
   "cell_type": "code",
   "execution_count": 10,
   "metadata": {},
   "outputs": [
    {
     "data": {
      "image/png": "[encoded data removed]"
     },
     "metadata": {},
     "output_type": "display_data"
    }
   ],
   "source": [
    "plt.figure(figsize=(6,3))\n",
    "\n",
    "for i in range(4):\n",
    "    y = np.array(n_eff.sel(mode_index=i).real)\n",
    "    plt.plot(w, y, color=\"gray\")\n",
    "    y[y<light_line] = np.nan #do not consider polarization below the light line\n",
    "    plt.scatter(w, y, c = te_pol.sel(mode_index=i), cmap=\"jet\", vmin=0, vmax=1, label=f\"{i}\")\n",
    "    \n",
    "cbar = plt.colorbar(ticks=[0, 1])\n",
    "cbar.ax.set_yticklabels(['TM', 'TE'])\n",
    "\n",
    "plt.grid()\n",
    "plt.xlabel(\"Waveguide width [$\\mu$m]\")\n",
    "plt.ylabel(\"Effective Index\")\n",
    "plt.axhline(y=light_line, color=\"k\")\n",
    "plt.title(\"Effective index sweep\")"
   ]
  },
  {
   "attachments": {},
   "cell_type": "markdown",
   "metadata": {},
   "source": [
    "## Interpretation\n",
    "Two modes are guided for small widths (quasi TE and TM), and a third mode crosses the light line (refractive index of the background material) at a width of ca. 0.9um. This is the point below which the given silicon nitride waveguide becomes single mode in the conventional sense. It only supports a single mode of the qTE polarization of interest.\n",
    "A stricter definition of single mode exists in literature:\n",
    "> A single-polarization single-mode (SPSM) waveguide is a waveguide that is truly single-mode in the sense of supporting only a single guided-mode solution (rather than two or more, commonly corresponding to two polarizations as in standard “single-mode” fibers)\n",
    "- Lee et. al \"Design strategies and rigorous conditions for single-polarization single-mode waveguides\"\n",
    "\n",
    "This condition cannot be met using rectangular silicon nitride waveguides (see mentioned paper). Therefore I assume the question targeted the single mode regime in the conventional sense."
   ]
  },
  {
   "attachments": {},
   "cell_type": "markdown",
   "metadata": {},
   "source": [
    "## Notes\n",
    "Also note that the qTE and qTM modes cross (having a degeneracy in w=400nm). This degeneracy exists, as I am using a drastically simplified model of a perfectly rectangular waveguide (no sidewall angle) without BOX etc. To get more accurate results the simulated material properties should also be calibrated to the intended foundary process. This statement is valid for all questions and will not be repeated going forward.\n",
    "\n",
    "To color the modes according to their polarization I have monkey patched a property to determine the TE polarization fraction (Lumericals formula). I will create a PR later."
   ]
  },
  {
   "cell_type": "code",
   "execution_count": 6,
   "metadata": {},
   "outputs": [],
   "source": [
    "#| hide\n",
    "import nbdev; nbdev.nbdev_export()"
   ]
  }
 ],
 "metadata": {
  "kernelspec": {
   "display_name": "python3",
   "language": "python",
   "name": "python3"
  },
  "language_info": {
   "codemirror_mode": {
    "name": "ipython",
    "version": 3
   },
   "file_extension": ".py",
   "mimetype": "text/x-python",
   "name": "python",
   "nbconvert_exporter": "python",
   "pygments_lexer": "ipython3",
   "version": "3.10.11"
  }
 },
 "nbformat": 4,
 "nbformat_minor": 4
}

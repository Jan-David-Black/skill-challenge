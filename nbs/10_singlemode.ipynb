{
 "cells": [
  {
   "attachments": {},
   "cell_type": "markdown",
   "metadata": {},
   "source": [
    "# Single Mode\n",
    "\n",
    "> finding the single mode condition"
   ]
  },
  {
   "cell_type": "code",
   "execution_count": null,
   "metadata": {},
   "outputs": [],
   "source": [
    "#| default_exp singlemode"
   ]
  },
  {
   "attachments": {},
   "cell_type": "markdown",
   "metadata": {},
   "source": [
    "The question is concerned with the single mode cutoff of a silicon nitride waveguide:\n",
    "> What’s the maximum waveguide width for a silicon nitride at 1550nm TE polarization for 400nm thick to be single mode?\n",
    "\n",
    "To answer that question lets sweep the effective index of the first couple of modes at different waveguide widths:\n"
   ]
  },
  {
   "cell_type": "code",
   "execution_count": null,
   "metadata": {},
   "outputs": [],
   "source": [
    "#| hide\n",
    "from nbdev.showdoc import *"
   ]
  },
  {
   "cell_type": "code",
   "execution_count": null,
   "metadata": {},
   "outputs": [
    {
     "name": "stdout",
     "output_type": "stream",
     "text": [
      "\u001b[32m2023-06-10 05:31:20.774\u001b[0m | \u001b[1mINFO    \u001b[0m | \u001b[36mgdsfactory.config\u001b[0m:\u001b[36m__init__\u001b[0m:\u001b[36m204\u001b[0m - \u001b[1mLogLevel: INFO\u001b[0m\n",
      "\u001b[32m2023-06-10 05:31:23.208\u001b[0m | \u001b[1mINFO    \u001b[0m | \u001b[36mgdsfactory.simulation.gtidy3d\u001b[0m:\u001b[36m<module>\u001b[0m:\u001b[36m60\u001b[0m - \u001b[1mTidy3d '2.2.2' installed at ['/opt/conda/lib/python3.10/site-packages/tidy3d']\u001b[0m\n"
     ]
    }
   ],
   "source": [
    "#| hide\n",
    "from skill_challenge.util import np, gf, gt, plt, nm"
   ]
  },
  {
   "cell_type": "code",
   "execution_count": null,
   "metadata": {},
   "outputs": [
    {
     "data": {
      "application/vnd.jupyter.widget-view+json": {
       "model_id": "de563303682047149e5cedef3f874b0b",
       "version_major": 2,
       "version_minor": 0
      },
      "text/plain": [
       "  0%|          | 0/10 [00:00<?, ?it/s]"
      ]
     },
     "metadata": {},
     "output_type": "display_data"
    },
    {
     "data": {
      "text/html": [
       "<pre style=\"white-space:pre;overflow-x:auto;line-height:normal;font-family:Menlo,'DejaVu Sans Mono',consolas,'Courier New',monospace\"><span style=\"color: #7fbfbf; text-decoration-color: #7fbfbf\">[05:31:26] </span>WARNING: Mode field at frequency index <span style=\"color: #008080; text-decoration-color: #008080; font-weight: bold\">0</span>, mode index <span style=\"color: #008080; text-decoration-color: #008080; font-weight: bold\">1</span> does not decay at the plane    <a href=\"file:///opt/conda/lib/python3.10/site-packages/tidy3d/plugins/mode/mode_solver.py\" target=\"_blank\"><span style=\"color: #7f7f7f; text-decoration-color: #7f7f7f\">mode_solver.py</span></a><span style=\"color: #7f7f7f; text-decoration-color: #7f7f7f\">:</span><a href=\"file:///opt/conda/lib/python3.10/site-packages/tidy3d/plugins/mode/mode_solver.py#428\" target=\"_blank\"><span style=\"color: #7f7f7f; text-decoration-color: #7f7f7f\">428</span></a>\n",
       "<span style=\"color: #7fbfbf; text-decoration-color: #7fbfbf\">           </span>boundaries.                                                                           <span style=\"color: #7f7f7f; text-decoration-color: #7f7f7f\">                  </span>\n",
       "</pre>\n"
      ],
      "text/plain": [
       "\u001b[2;36m[05:31:26]\u001b[0m\u001b[2;36m \u001b[0mWARNING: Mode field at frequency index \u001b[1;36m0\u001b[0m, mode index \u001b[1;36m1\u001b[0m does not decay at the plane    \u001b]8;id=56087;file:///opt/conda/lib/python3.10/site-packages/tidy3d/plugins/mode/mode_solver.py\u001b\\\u001b[2mmode_solver.py\u001b[0m\u001b]8;;\u001b\\\u001b[2m:\u001b[0m\u001b]8;id=634209;file:///opt/conda/lib/python3.10/site-packages/tidy3d/plugins/mode/mode_solver.py#428\u001b\\\u001b[2m428\u001b[0m\u001b]8;;\u001b\\\n",
       "\u001b[2;36m           \u001b[0mboundaries.                                                                           \u001b[2m                  \u001b[0m\n"
      ]
     },
     "metadata": {},
     "output_type": "display_data"
    },
    {
     "data": {
      "text/html": [
       "<pre style=\"white-space:pre;overflow-x:auto;line-height:normal;font-family:Menlo,'DejaVu Sans Mono',consolas,'Courier New',monospace\"><span style=\"color: #7fbfbf; text-decoration-color: #7fbfbf\">           </span>WARNING: Mode field at frequency index <span style=\"color: #008080; text-decoration-color: #008080; font-weight: bold\">0</span>, mode index <span style=\"color: #008080; text-decoration-color: #008080; font-weight: bold\">2</span> does not decay at the plane    <a href=\"file:///opt/conda/lib/python3.10/site-packages/tidy3d/plugins/mode/mode_solver.py\" target=\"_blank\"><span style=\"color: #7f7f7f; text-decoration-color: #7f7f7f\">mode_solver.py</span></a><span style=\"color: #7f7f7f; text-decoration-color: #7f7f7f\">:</span><a href=\"file:///opt/conda/lib/python3.10/site-packages/tidy3d/plugins/mode/mode_solver.py#428\" target=\"_blank\"><span style=\"color: #7f7f7f; text-decoration-color: #7f7f7f\">428</span></a>\n",
       "<span style=\"color: #7fbfbf; text-decoration-color: #7fbfbf\">           </span>boundaries.                                                                           <span style=\"color: #7f7f7f; text-decoration-color: #7f7f7f\">                  </span>\n",
       "</pre>\n"
      ],
      "text/plain": [
       "\u001b[2;36m          \u001b[0m\u001b[2;36m \u001b[0mWARNING: Mode field at frequency index \u001b[1;36m0\u001b[0m, mode index \u001b[1;36m2\u001b[0m does not decay at the plane    \u001b]8;id=691606;file:///opt/conda/lib/python3.10/site-packages/tidy3d/plugins/mode/mode_solver.py\u001b\\\u001b[2mmode_solver.py\u001b[0m\u001b]8;;\u001b\\\u001b[2m:\u001b[0m\u001b]8;id=244146;file:///opt/conda/lib/python3.10/site-packages/tidy3d/plugins/mode/mode_solver.py#428\u001b\\\u001b[2m428\u001b[0m\u001b]8;;\u001b\\\n",
       "\u001b[2;36m           \u001b[0mboundaries.                                                                           \u001b[2m                  \u001b[0m\n"
      ]
     },
     "metadata": {},
     "output_type": "display_data"
    },
    {
     "data": {
      "text/html": [
       "<pre style=\"white-space:pre;overflow-x:auto;line-height:normal;font-family:Menlo,'DejaVu Sans Mono',consolas,'Courier New',monospace\"><span style=\"color: #7fbfbf; text-decoration-color: #7fbfbf\">           </span>WARNING: Mode field at frequency index <span style=\"color: #008080; text-decoration-color: #008080; font-weight: bold\">0</span>, mode index <span style=\"color: #008080; text-decoration-color: #008080; font-weight: bold\">3</span> does not decay at the plane    <a href=\"file:///opt/conda/lib/python3.10/site-packages/tidy3d/plugins/mode/mode_solver.py\" target=\"_blank\"><span style=\"color: #7f7f7f; text-decoration-color: #7f7f7f\">mode_solver.py</span></a><span style=\"color: #7f7f7f; text-decoration-color: #7f7f7f\">:</span><a href=\"file:///opt/conda/lib/python3.10/site-packages/tidy3d/plugins/mode/mode_solver.py#428\" target=\"_blank\"><span style=\"color: #7f7f7f; text-decoration-color: #7f7f7f\">428</span></a>\n",
       "<span style=\"color: #7fbfbf; text-decoration-color: #7fbfbf\">           </span>boundaries.                                                                           <span style=\"color: #7f7f7f; text-decoration-color: #7f7f7f\">                  </span>\n",
       "</pre>\n"
      ],
      "text/plain": [
       "\u001b[2;36m          \u001b[0m\u001b[2;36m \u001b[0mWARNING: Mode field at frequency index \u001b[1;36m0\u001b[0m, mode index \u001b[1;36m3\u001b[0m does not decay at the plane    \u001b]8;id=79531;file:///opt/conda/lib/python3.10/site-packages/tidy3d/plugins/mode/mode_solver.py\u001b\\\u001b[2mmode_solver.py\u001b[0m\u001b]8;;\u001b\\\u001b[2m:\u001b[0m\u001b]8;id=218094;file:///opt/conda/lib/python3.10/site-packages/tidy3d/plugins/mode/mode_solver.py#428\u001b\\\u001b[2m428\u001b[0m\u001b]8;;\u001b\\\n",
       "\u001b[2;36m           \u001b[0mboundaries.                                                                           \u001b[2m                  \u001b[0m\n"
      ]
     },
     "metadata": {},
     "output_type": "display_data"
    },
    {
     "data": {
      "text/html": [
       "<pre style=\"white-space:pre;overflow-x:auto;line-height:normal;font-family:Menlo,'DejaVu Sans Mono',consolas,'Courier New',monospace\"><span style=\"color: #7fbfbf; text-decoration-color: #7fbfbf\">[05:31:28] </span>WARNING: Mode field at frequency index <span style=\"color: #008080; text-decoration-color: #008080; font-weight: bold\">0</span>, mode index <span style=\"color: #008080; text-decoration-color: #008080; font-weight: bold\">2</span> does not decay at the plane    <a href=\"file:///opt/conda/lib/python3.10/site-packages/tidy3d/plugins/mode/mode_solver.py\" target=\"_blank\"><span style=\"color: #7f7f7f; text-decoration-color: #7f7f7f\">mode_solver.py</span></a><span style=\"color: #7f7f7f; text-decoration-color: #7f7f7f\">:</span><a href=\"file:///opt/conda/lib/python3.10/site-packages/tidy3d/plugins/mode/mode_solver.py#428\" target=\"_blank\"><span style=\"color: #7f7f7f; text-decoration-color: #7f7f7f\">428</span></a>\n",
       "<span style=\"color: #7fbfbf; text-decoration-color: #7fbfbf\">           </span>boundaries.                                                                           <span style=\"color: #7f7f7f; text-decoration-color: #7f7f7f\">                  </span>\n",
       "</pre>\n"
      ],
      "text/plain": [
       "\u001b[2;36m[05:31:28]\u001b[0m\u001b[2;36m \u001b[0mWARNING: Mode field at frequency index \u001b[1;36m0\u001b[0m, mode index \u001b[1;36m2\u001b[0m does not decay at the plane    \u001b]8;id=685825;file:///opt/conda/lib/python3.10/site-packages/tidy3d/plugins/mode/mode_solver.py\u001b\\\u001b[2mmode_solver.py\u001b[0m\u001b]8;;\u001b\\\u001b[2m:\u001b[0m\u001b]8;id=462344;file:///opt/conda/lib/python3.10/site-packages/tidy3d/plugins/mode/mode_solver.py#428\u001b\\\u001b[2m428\u001b[0m\u001b]8;;\u001b\\\n",
       "\u001b[2;36m           \u001b[0mboundaries.                                                                           \u001b[2m                  \u001b[0m\n"
      ]
     },
     "metadata": {},
     "output_type": "display_data"
    },
    {
     "data": {
      "text/html": [
       "<pre style=\"white-space:pre;overflow-x:auto;line-height:normal;font-family:Menlo,'DejaVu Sans Mono',consolas,'Courier New',monospace\"><span style=\"color: #7fbfbf; text-decoration-color: #7fbfbf\">           </span>WARNING: Mode field at frequency index <span style=\"color: #008080; text-decoration-color: #008080; font-weight: bold\">0</span>, mode index <span style=\"color: #008080; text-decoration-color: #008080; font-weight: bold\">3</span> does not decay at the plane    <a href=\"file:///opt/conda/lib/python3.10/site-packages/tidy3d/plugins/mode/mode_solver.py\" target=\"_blank\"><span style=\"color: #7f7f7f; text-decoration-color: #7f7f7f\">mode_solver.py</span></a><span style=\"color: #7f7f7f; text-decoration-color: #7f7f7f\">:</span><a href=\"file:///opt/conda/lib/python3.10/site-packages/tidy3d/plugins/mode/mode_solver.py#428\" target=\"_blank\"><span style=\"color: #7f7f7f; text-decoration-color: #7f7f7f\">428</span></a>\n",
       "<span style=\"color: #7fbfbf; text-decoration-color: #7fbfbf\">           </span>boundaries.                                                                           <span style=\"color: #7f7f7f; text-decoration-color: #7f7f7f\">                  </span>\n",
       "</pre>\n"
      ],
      "text/plain": [
       "\u001b[2;36m          \u001b[0m\u001b[2;36m \u001b[0mWARNING: Mode field at frequency index \u001b[1;36m0\u001b[0m, mode index \u001b[1;36m3\u001b[0m does not decay at the plane    \u001b]8;id=644766;file:///opt/conda/lib/python3.10/site-packages/tidy3d/plugins/mode/mode_solver.py\u001b\\\u001b[2mmode_solver.py\u001b[0m\u001b]8;;\u001b\\\u001b[2m:\u001b[0m\u001b]8;id=856633;file:///opt/conda/lib/python3.10/site-packages/tidy3d/plugins/mode/mode_solver.py#428\u001b\\\u001b[2m428\u001b[0m\u001b]8;;\u001b\\\n",
       "\u001b[2;36m           \u001b[0mboundaries.                                                                           \u001b[2m                  \u001b[0m\n"
      ]
     },
     "metadata": {},
     "output_type": "display_data"
    },
    {
     "data": {
      "text/html": [
       "<pre style=\"white-space:pre;overflow-x:auto;line-height:normal;font-family:Menlo,'DejaVu Sans Mono',consolas,'Courier New',monospace\"><span style=\"color: #7fbfbf; text-decoration-color: #7fbfbf\">[05:31:30] </span>WARNING: Mode field at frequency index <span style=\"color: #008080; text-decoration-color: #008080; font-weight: bold\">0</span>, mode index <span style=\"color: #008080; text-decoration-color: #008080; font-weight: bold\">2</span> does not decay at the plane    <a href=\"file:///opt/conda/lib/python3.10/site-packages/tidy3d/plugins/mode/mode_solver.py\" target=\"_blank\"><span style=\"color: #7f7f7f; text-decoration-color: #7f7f7f\">mode_solver.py</span></a><span style=\"color: #7f7f7f; text-decoration-color: #7f7f7f\">:</span><a href=\"file:///opt/conda/lib/python3.10/site-packages/tidy3d/plugins/mode/mode_solver.py#428\" target=\"_blank\"><span style=\"color: #7f7f7f; text-decoration-color: #7f7f7f\">428</span></a>\n",
       "<span style=\"color: #7fbfbf; text-decoration-color: #7fbfbf\">           </span>boundaries.                                                                           <span style=\"color: #7f7f7f; text-decoration-color: #7f7f7f\">                  </span>\n",
       "</pre>\n"
      ],
      "text/plain": [
       "\u001b[2;36m[05:31:30]\u001b[0m\u001b[2;36m \u001b[0mWARNING: Mode field at frequency index \u001b[1;36m0\u001b[0m, mode index \u001b[1;36m2\u001b[0m does not decay at the plane    \u001b]8;id=545837;file:///opt/conda/lib/python3.10/site-packages/tidy3d/plugins/mode/mode_solver.py\u001b\\\u001b[2mmode_solver.py\u001b[0m\u001b]8;;\u001b\\\u001b[2m:\u001b[0m\u001b]8;id=842572;file:///opt/conda/lib/python3.10/site-packages/tidy3d/plugins/mode/mode_solver.py#428\u001b\\\u001b[2m428\u001b[0m\u001b]8;;\u001b\\\n",
       "\u001b[2;36m           \u001b[0mboundaries.                                                                           \u001b[2m                  \u001b[0m\n"
      ]
     },
     "metadata": {},
     "output_type": "display_data"
    },
    {
     "data": {
      "text/html": [
       "<pre style=\"white-space:pre;overflow-x:auto;line-height:normal;font-family:Menlo,'DejaVu Sans Mono',consolas,'Courier New',monospace\"><span style=\"color: #7fbfbf; text-decoration-color: #7fbfbf\">           </span>WARNING: Mode field at frequency index <span style=\"color: #008080; text-decoration-color: #008080; font-weight: bold\">0</span>, mode index <span style=\"color: #008080; text-decoration-color: #008080; font-weight: bold\">3</span> does not decay at the plane    <a href=\"file:///opt/conda/lib/python3.10/site-packages/tidy3d/plugins/mode/mode_solver.py\" target=\"_blank\"><span style=\"color: #7f7f7f; text-decoration-color: #7f7f7f\">mode_solver.py</span></a><span style=\"color: #7f7f7f; text-decoration-color: #7f7f7f\">:</span><a href=\"file:///opt/conda/lib/python3.10/site-packages/tidy3d/plugins/mode/mode_solver.py#428\" target=\"_blank\"><span style=\"color: #7f7f7f; text-decoration-color: #7f7f7f\">428</span></a>\n",
       "<span style=\"color: #7fbfbf; text-decoration-color: #7fbfbf\">           </span>boundaries.                                                                           <span style=\"color: #7f7f7f; text-decoration-color: #7f7f7f\">                  </span>\n",
       "</pre>\n"
      ],
      "text/plain": [
       "\u001b[2;36m          \u001b[0m\u001b[2;36m \u001b[0mWARNING: Mode field at frequency index \u001b[1;36m0\u001b[0m, mode index \u001b[1;36m3\u001b[0m does not decay at the plane    \u001b]8;id=825101;file:///opt/conda/lib/python3.10/site-packages/tidy3d/plugins/mode/mode_solver.py\u001b\\\u001b[2mmode_solver.py\u001b[0m\u001b]8;;\u001b\\\u001b[2m:\u001b[0m\u001b]8;id=315094;file:///opt/conda/lib/python3.10/site-packages/tidy3d/plugins/mode/mode_solver.py#428\u001b\\\u001b[2m428\u001b[0m\u001b]8;;\u001b\\\n",
       "\u001b[2;36m           \u001b[0mboundaries.                                                                           \u001b[2m                  \u001b[0m\n"
      ]
     },
     "metadata": {},
     "output_type": "display_data"
    },
    {
     "data": {
      "text/html": [
       "<pre style=\"white-space:pre;overflow-x:auto;line-height:normal;font-family:Menlo,'DejaVu Sans Mono',consolas,'Courier New',monospace\"><span style=\"color: #7fbfbf; text-decoration-color: #7fbfbf\">[05:31:33] </span>WARNING: Mode field at frequency index <span style=\"color: #008080; text-decoration-color: #008080; font-weight: bold\">0</span>, mode index <span style=\"color: #008080; text-decoration-color: #008080; font-weight: bold\">2</span> does not decay at the plane    <a href=\"file:///opt/conda/lib/python3.10/site-packages/tidy3d/plugins/mode/mode_solver.py\" target=\"_blank\"><span style=\"color: #7f7f7f; text-decoration-color: #7f7f7f\">mode_solver.py</span></a><span style=\"color: #7f7f7f; text-decoration-color: #7f7f7f\">:</span><a href=\"file:///opt/conda/lib/python3.10/site-packages/tidy3d/plugins/mode/mode_solver.py#428\" target=\"_blank\"><span style=\"color: #7f7f7f; text-decoration-color: #7f7f7f\">428</span></a>\n",
       "<span style=\"color: #7fbfbf; text-decoration-color: #7fbfbf\">           </span>boundaries.                                                                           <span style=\"color: #7f7f7f; text-decoration-color: #7f7f7f\">                  </span>\n",
       "</pre>\n"
      ],
      "text/plain": [
       "\u001b[2;36m[05:31:33]\u001b[0m\u001b[2;36m \u001b[0mWARNING: Mode field at frequency index \u001b[1;36m0\u001b[0m, mode index \u001b[1;36m2\u001b[0m does not decay at the plane    \u001b]8;id=969780;file:///opt/conda/lib/python3.10/site-packages/tidy3d/plugins/mode/mode_solver.py\u001b\\\u001b[2mmode_solver.py\u001b[0m\u001b]8;;\u001b\\\u001b[2m:\u001b[0m\u001b]8;id=142792;file:///opt/conda/lib/python3.10/site-packages/tidy3d/plugins/mode/mode_solver.py#428\u001b\\\u001b[2m428\u001b[0m\u001b]8;;\u001b\\\n",
       "\u001b[2;36m           \u001b[0mboundaries.                                                                           \u001b[2m                  \u001b[0m\n"
      ]
     },
     "metadata": {},
     "output_type": "display_data"
    },
    {
     "data": {
      "text/html": [
       "<pre style=\"white-space:pre;overflow-x:auto;line-height:normal;font-family:Menlo,'DejaVu Sans Mono',consolas,'Courier New',monospace\"><span style=\"color: #7fbfbf; text-decoration-color: #7fbfbf\">           </span>WARNING: Mode field at frequency index <span style=\"color: #008080; text-decoration-color: #008080; font-weight: bold\">0</span>, mode index <span style=\"color: #008080; text-decoration-color: #008080; font-weight: bold\">3</span> does not decay at the plane    <a href=\"file:///opt/conda/lib/python3.10/site-packages/tidy3d/plugins/mode/mode_solver.py\" target=\"_blank\"><span style=\"color: #7f7f7f; text-decoration-color: #7f7f7f\">mode_solver.py</span></a><span style=\"color: #7f7f7f; text-decoration-color: #7f7f7f\">:</span><a href=\"file:///opt/conda/lib/python3.10/site-packages/tidy3d/plugins/mode/mode_solver.py#428\" target=\"_blank\"><span style=\"color: #7f7f7f; text-decoration-color: #7f7f7f\">428</span></a>\n",
       "<span style=\"color: #7fbfbf; text-decoration-color: #7fbfbf\">           </span>boundaries.                                                                           <span style=\"color: #7f7f7f; text-decoration-color: #7f7f7f\">                  </span>\n",
       "</pre>\n"
      ],
      "text/plain": [
       "\u001b[2;36m          \u001b[0m\u001b[2;36m \u001b[0mWARNING: Mode field at frequency index \u001b[1;36m0\u001b[0m, mode index \u001b[1;36m3\u001b[0m does not decay at the plane    \u001b]8;id=1892;file:///opt/conda/lib/python3.10/site-packages/tidy3d/plugins/mode/mode_solver.py\u001b\\\u001b[2mmode_solver.py\u001b[0m\u001b]8;;\u001b\\\u001b[2m:\u001b[0m\u001b]8;id=30657;file:///opt/conda/lib/python3.10/site-packages/tidy3d/plugins/mode/mode_solver.py#428\u001b\\\u001b[2m428\u001b[0m\u001b]8;;\u001b\\\n",
       "\u001b[2;36m           \u001b[0mboundaries.                                                                           \u001b[2m                  \u001b[0m\n"
      ]
     },
     "metadata": {},
     "output_type": "display_data"
    },
    {
     "data": {
      "text/html": [
       "<pre style=\"white-space:pre;overflow-x:auto;line-height:normal;font-family:Menlo,'DejaVu Sans Mono',consolas,'Courier New',monospace\"><span style=\"color: #7fbfbf; text-decoration-color: #7fbfbf\">[05:31:35] </span>WARNING: Mode field at frequency index <span style=\"color: #008080; text-decoration-color: #008080; font-weight: bold\">0</span>, mode index <span style=\"color: #008080; text-decoration-color: #008080; font-weight: bold\">2</span> does not decay at the plane    <a href=\"file:///opt/conda/lib/python3.10/site-packages/tidy3d/plugins/mode/mode_solver.py\" target=\"_blank\"><span style=\"color: #7f7f7f; text-decoration-color: #7f7f7f\">mode_solver.py</span></a><span style=\"color: #7f7f7f; text-decoration-color: #7f7f7f\">:</span><a href=\"file:///opt/conda/lib/python3.10/site-packages/tidy3d/plugins/mode/mode_solver.py#428\" target=\"_blank\"><span style=\"color: #7f7f7f; text-decoration-color: #7f7f7f\">428</span></a>\n",
       "<span style=\"color: #7fbfbf; text-decoration-color: #7fbfbf\">           </span>boundaries.                                                                           <span style=\"color: #7f7f7f; text-decoration-color: #7f7f7f\">                  </span>\n",
       "</pre>\n"
      ],
      "text/plain": [
       "\u001b[2;36m[05:31:35]\u001b[0m\u001b[2;36m \u001b[0mWARNING: Mode field at frequency index \u001b[1;36m0\u001b[0m, mode index \u001b[1;36m2\u001b[0m does not decay at the plane    \u001b]8;id=919899;file:///opt/conda/lib/python3.10/site-packages/tidy3d/plugins/mode/mode_solver.py\u001b\\\u001b[2mmode_solver.py\u001b[0m\u001b]8;;\u001b\\\u001b[2m:\u001b[0m\u001b]8;id=491859;file:///opt/conda/lib/python3.10/site-packages/tidy3d/plugins/mode/mode_solver.py#428\u001b\\\u001b[2m428\u001b[0m\u001b]8;;\u001b\\\n",
       "\u001b[2;36m           \u001b[0mboundaries.                                                                           \u001b[2m                  \u001b[0m\n"
      ]
     },
     "metadata": {},
     "output_type": "display_data"
    },
    {
     "data": {
      "text/html": [
       "<pre style=\"white-space:pre;overflow-x:auto;line-height:normal;font-family:Menlo,'DejaVu Sans Mono',consolas,'Courier New',monospace\"><span style=\"color: #7fbfbf; text-decoration-color: #7fbfbf\">           </span>WARNING: Mode field at frequency index <span style=\"color: #008080; text-decoration-color: #008080; font-weight: bold\">0</span>, mode index <span style=\"color: #008080; text-decoration-color: #008080; font-weight: bold\">3</span> does not decay at the plane    <a href=\"file:///opt/conda/lib/python3.10/site-packages/tidy3d/plugins/mode/mode_solver.py\" target=\"_blank\"><span style=\"color: #7f7f7f; text-decoration-color: #7f7f7f\">mode_solver.py</span></a><span style=\"color: #7f7f7f; text-decoration-color: #7f7f7f\">:</span><a href=\"file:///opt/conda/lib/python3.10/site-packages/tidy3d/plugins/mode/mode_solver.py#428\" target=\"_blank\"><span style=\"color: #7f7f7f; text-decoration-color: #7f7f7f\">428</span></a>\n",
       "<span style=\"color: #7fbfbf; text-decoration-color: #7fbfbf\">           </span>boundaries.                                                                           <span style=\"color: #7f7f7f; text-decoration-color: #7f7f7f\">                  </span>\n",
       "</pre>\n"
      ],
      "text/plain": [
       "\u001b[2;36m          \u001b[0m\u001b[2;36m \u001b[0mWARNING: Mode field at frequency index \u001b[1;36m0\u001b[0m, mode index \u001b[1;36m3\u001b[0m does not decay at the plane    \u001b]8;id=611890;file:///opt/conda/lib/python3.10/site-packages/tidy3d/plugins/mode/mode_solver.py\u001b\\\u001b[2mmode_solver.py\u001b[0m\u001b]8;;\u001b\\\u001b[2m:\u001b[0m\u001b]8;id=327562;file:///opt/conda/lib/python3.10/site-packages/tidy3d/plugins/mode/mode_solver.py#428\u001b\\\u001b[2m428\u001b[0m\u001b]8;;\u001b\\\n",
       "\u001b[2;36m           \u001b[0mboundaries.                                                                           \u001b[2m                  \u001b[0m\n"
      ]
     },
     "metadata": {},
     "output_type": "display_data"
    },
    {
     "data": {
      "text/html": [
       "<pre style=\"white-space:pre;overflow-x:auto;line-height:normal;font-family:Menlo,'DejaVu Sans Mono',consolas,'Courier New',monospace\"><span style=\"color: #7fbfbf; text-decoration-color: #7fbfbf\">[05:31:38] </span>WARNING: Mode field at frequency index <span style=\"color: #008080; text-decoration-color: #008080; font-weight: bold\">0</span>, mode index <span style=\"color: #008080; text-decoration-color: #008080; font-weight: bold\">2</span> does not decay at the plane    <a href=\"file:///opt/conda/lib/python3.10/site-packages/tidy3d/plugins/mode/mode_solver.py\" target=\"_blank\"><span style=\"color: #7f7f7f; text-decoration-color: #7f7f7f\">mode_solver.py</span></a><span style=\"color: #7f7f7f; text-decoration-color: #7f7f7f\">:</span><a href=\"file:///opt/conda/lib/python3.10/site-packages/tidy3d/plugins/mode/mode_solver.py#428\" target=\"_blank\"><span style=\"color: #7f7f7f; text-decoration-color: #7f7f7f\">428</span></a>\n",
       "<span style=\"color: #7fbfbf; text-decoration-color: #7fbfbf\">           </span>boundaries.                                                                           <span style=\"color: #7f7f7f; text-decoration-color: #7f7f7f\">                  </span>\n",
       "</pre>\n"
      ],
      "text/plain": [
       "\u001b[2;36m[05:31:38]\u001b[0m\u001b[2;36m \u001b[0mWARNING: Mode field at frequency index \u001b[1;36m0\u001b[0m, mode index \u001b[1;36m2\u001b[0m does not decay at the plane    \u001b]8;id=343751;file:///opt/conda/lib/python3.10/site-packages/tidy3d/plugins/mode/mode_solver.py\u001b\\\u001b[2mmode_solver.py\u001b[0m\u001b]8;;\u001b\\\u001b[2m:\u001b[0m\u001b]8;id=37977;file:///opt/conda/lib/python3.10/site-packages/tidy3d/plugins/mode/mode_solver.py#428\u001b\\\u001b[2m428\u001b[0m\u001b]8;;\u001b\\\n",
       "\u001b[2;36m           \u001b[0mboundaries.                                                                           \u001b[2m                  \u001b[0m\n"
      ]
     },
     "metadata": {},
     "output_type": "display_data"
    },
    {
     "data": {
      "text/html": [
       "<pre style=\"white-space:pre;overflow-x:auto;line-height:normal;font-family:Menlo,'DejaVu Sans Mono',consolas,'Courier New',monospace\"><span style=\"color: #7fbfbf; text-decoration-color: #7fbfbf\">           </span>WARNING: Mode field at frequency index <span style=\"color: #008080; text-decoration-color: #008080; font-weight: bold\">0</span>, mode index <span style=\"color: #008080; text-decoration-color: #008080; font-weight: bold\">3</span> does not decay at the plane    <a href=\"file:///opt/conda/lib/python3.10/site-packages/tidy3d/plugins/mode/mode_solver.py\" target=\"_blank\"><span style=\"color: #7f7f7f; text-decoration-color: #7f7f7f\">mode_solver.py</span></a><span style=\"color: #7f7f7f; text-decoration-color: #7f7f7f\">:</span><a href=\"file:///opt/conda/lib/python3.10/site-packages/tidy3d/plugins/mode/mode_solver.py#428\" target=\"_blank\"><span style=\"color: #7f7f7f; text-decoration-color: #7f7f7f\">428</span></a>\n",
       "<span style=\"color: #7fbfbf; text-decoration-color: #7fbfbf\">           </span>boundaries.                                                                           <span style=\"color: #7f7f7f; text-decoration-color: #7f7f7f\">                  </span>\n",
       "</pre>\n"
      ],
      "text/plain": [
       "\u001b[2;36m          \u001b[0m\u001b[2;36m \u001b[0mWARNING: Mode field at frequency index \u001b[1;36m0\u001b[0m, mode index \u001b[1;36m3\u001b[0m does not decay at the plane    \u001b]8;id=680760;file:///opt/conda/lib/python3.10/site-packages/tidy3d/plugins/mode/mode_solver.py\u001b\\\u001b[2mmode_solver.py\u001b[0m\u001b]8;;\u001b\\\u001b[2m:\u001b[0m\u001b]8;id=236576;file:///opt/conda/lib/python3.10/site-packages/tidy3d/plugins/mode/mode_solver.py#428\u001b\\\u001b[2m428\u001b[0m\u001b]8;;\u001b\\\n",
       "\u001b[2;36m           \u001b[0mboundaries.                                                                           \u001b[2m                  \u001b[0m\n"
      ]
     },
     "metadata": {},
     "output_type": "display_data"
    },
    {
     "data": {
      "text/html": [
       "<pre style=\"white-space:pre;overflow-x:auto;line-height:normal;font-family:Menlo,'DejaVu Sans Mono',consolas,'Courier New',monospace\"><span style=\"color: #7fbfbf; text-decoration-color: #7fbfbf\">[05:31:41] </span>WARNING: Mode field at frequency index <span style=\"color: #008080; text-decoration-color: #008080; font-weight: bold\">0</span>, mode index <span style=\"color: #008080; text-decoration-color: #008080; font-weight: bold\">2</span> does not decay at the plane    <a href=\"file:///opt/conda/lib/python3.10/site-packages/tidy3d/plugins/mode/mode_solver.py\" target=\"_blank\"><span style=\"color: #7f7f7f; text-decoration-color: #7f7f7f\">mode_solver.py</span></a><span style=\"color: #7f7f7f; text-decoration-color: #7f7f7f\">:</span><a href=\"file:///opt/conda/lib/python3.10/site-packages/tidy3d/plugins/mode/mode_solver.py#428\" target=\"_blank\"><span style=\"color: #7f7f7f; text-decoration-color: #7f7f7f\">428</span></a>\n",
       "<span style=\"color: #7fbfbf; text-decoration-color: #7fbfbf\">           </span>boundaries.                                                                           <span style=\"color: #7f7f7f; text-decoration-color: #7f7f7f\">                  </span>\n",
       "</pre>\n"
      ],
      "text/plain": [
       "\u001b[2;36m[05:31:41]\u001b[0m\u001b[2;36m \u001b[0mWARNING: Mode field at frequency index \u001b[1;36m0\u001b[0m, mode index \u001b[1;36m2\u001b[0m does not decay at the plane    \u001b]8;id=750892;file:///opt/conda/lib/python3.10/site-packages/tidy3d/plugins/mode/mode_solver.py\u001b\\\u001b[2mmode_solver.py\u001b[0m\u001b]8;;\u001b\\\u001b[2m:\u001b[0m\u001b]8;id=527955;file:///opt/conda/lib/python3.10/site-packages/tidy3d/plugins/mode/mode_solver.py#428\u001b\\\u001b[2m428\u001b[0m\u001b]8;;\u001b\\\n",
       "\u001b[2;36m           \u001b[0mboundaries.                                                                           \u001b[2m                  \u001b[0m\n"
      ]
     },
     "metadata": {},
     "output_type": "display_data"
    },
    {
     "data": {
      "text/html": [
       "<pre style=\"white-space:pre;overflow-x:auto;line-height:normal;font-family:Menlo,'DejaVu Sans Mono',consolas,'Courier New',monospace\"><span style=\"color: #7fbfbf; text-decoration-color: #7fbfbf\">           </span>WARNING: Mode field at frequency index <span style=\"color: #008080; text-decoration-color: #008080; font-weight: bold\">0</span>, mode index <span style=\"color: #008080; text-decoration-color: #008080; font-weight: bold\">3</span> does not decay at the plane    <a href=\"file:///opt/conda/lib/python3.10/site-packages/tidy3d/plugins/mode/mode_solver.py\" target=\"_blank\"><span style=\"color: #7f7f7f; text-decoration-color: #7f7f7f\">mode_solver.py</span></a><span style=\"color: #7f7f7f; text-decoration-color: #7f7f7f\">:</span><a href=\"file:///opt/conda/lib/python3.10/site-packages/tidy3d/plugins/mode/mode_solver.py#428\" target=\"_blank\"><span style=\"color: #7f7f7f; text-decoration-color: #7f7f7f\">428</span></a>\n",
       "<span style=\"color: #7fbfbf; text-decoration-color: #7fbfbf\">           </span>boundaries.                                                                           <span style=\"color: #7f7f7f; text-decoration-color: #7f7f7f\">                  </span>\n",
       "</pre>\n"
      ],
      "text/plain": [
       "\u001b[2;36m          \u001b[0m\u001b[2;36m \u001b[0mWARNING: Mode field at frequency index \u001b[1;36m0\u001b[0m, mode index \u001b[1;36m3\u001b[0m does not decay at the plane    \u001b]8;id=242145;file:///opt/conda/lib/python3.10/site-packages/tidy3d/plugins/mode/mode_solver.py\u001b\\\u001b[2mmode_solver.py\u001b[0m\u001b]8;;\u001b\\\u001b[2m:\u001b[0m\u001b]8;id=373007;file:///opt/conda/lib/python3.10/site-packages/tidy3d/plugins/mode/mode_solver.py#428\u001b\\\u001b[2m428\u001b[0m\u001b]8;;\u001b\\\n",
       "\u001b[2;36m           \u001b[0mboundaries.                                                                           \u001b[2m                  \u001b[0m\n"
      ]
     },
     "metadata": {},
     "output_type": "display_data"
    },
    {
     "data": {
      "text/html": [
       "<pre style=\"white-space:pre;overflow-x:auto;line-height:normal;font-family:Menlo,'DejaVu Sans Mono',consolas,'Courier New',monospace\"><span style=\"color: #7fbfbf; text-decoration-color: #7fbfbf\">[05:31:46] </span>WARNING: Mode field at frequency index <span style=\"color: #008080; text-decoration-color: #008080; font-weight: bold\">0</span>, mode index <span style=\"color: #008080; text-decoration-color: #008080; font-weight: bold\">2</span> does not decay at the plane    <a href=\"file:///opt/conda/lib/python3.10/site-packages/tidy3d/plugins/mode/mode_solver.py\" target=\"_blank\"><span style=\"color: #7f7f7f; text-decoration-color: #7f7f7f\">mode_solver.py</span></a><span style=\"color: #7f7f7f; text-decoration-color: #7f7f7f\">:</span><a href=\"file:///opt/conda/lib/python3.10/site-packages/tidy3d/plugins/mode/mode_solver.py#428\" target=\"_blank\"><span style=\"color: #7f7f7f; text-decoration-color: #7f7f7f\">428</span></a>\n",
       "<span style=\"color: #7fbfbf; text-decoration-color: #7fbfbf\">           </span>boundaries.                                                                           <span style=\"color: #7f7f7f; text-decoration-color: #7f7f7f\">                  </span>\n",
       "</pre>\n"
      ],
      "text/plain": [
       "\u001b[2;36m[05:31:46]\u001b[0m\u001b[2;36m \u001b[0mWARNING: Mode field at frequency index \u001b[1;36m0\u001b[0m, mode index \u001b[1;36m2\u001b[0m does not decay at the plane    \u001b]8;id=795776;file:///opt/conda/lib/python3.10/site-packages/tidy3d/plugins/mode/mode_solver.py\u001b\\\u001b[2mmode_solver.py\u001b[0m\u001b]8;;\u001b\\\u001b[2m:\u001b[0m\u001b]8;id=952552;file:///opt/conda/lib/python3.10/site-packages/tidy3d/plugins/mode/mode_solver.py#428\u001b\\\u001b[2m428\u001b[0m\u001b]8;;\u001b\\\n",
       "\u001b[2;36m           \u001b[0mboundaries.                                                                           \u001b[2m                  \u001b[0m\n"
      ]
     },
     "metadata": {},
     "output_type": "display_data"
    },
    {
     "data": {
      "text/html": [
       "<pre style=\"white-space:pre;overflow-x:auto;line-height:normal;font-family:Menlo,'DejaVu Sans Mono',consolas,'Courier New',monospace\"><span style=\"color: #7fbfbf; text-decoration-color: #7fbfbf\">           </span>WARNING: Mode field at frequency index <span style=\"color: #008080; text-decoration-color: #008080; font-weight: bold\">0</span>, mode index <span style=\"color: #008080; text-decoration-color: #008080; font-weight: bold\">3</span> does not decay at the plane    <a href=\"file:///opt/conda/lib/python3.10/site-packages/tidy3d/plugins/mode/mode_solver.py\" target=\"_blank\"><span style=\"color: #7f7f7f; text-decoration-color: #7f7f7f\">mode_solver.py</span></a><span style=\"color: #7f7f7f; text-decoration-color: #7f7f7f\">:</span><a href=\"file:///opt/conda/lib/python3.10/site-packages/tidy3d/plugins/mode/mode_solver.py#428\" target=\"_blank\"><span style=\"color: #7f7f7f; text-decoration-color: #7f7f7f\">428</span></a>\n",
       "<span style=\"color: #7fbfbf; text-decoration-color: #7fbfbf\">           </span>boundaries.                                                                           <span style=\"color: #7f7f7f; text-decoration-color: #7f7f7f\">                  </span>\n",
       "</pre>\n"
      ],
      "text/plain": [
       "\u001b[2;36m          \u001b[0m\u001b[2;36m \u001b[0mWARNING: Mode field at frequency index \u001b[1;36m0\u001b[0m, mode index \u001b[1;36m3\u001b[0m does not decay at the plane    \u001b]8;id=637122;file:///opt/conda/lib/python3.10/site-packages/tidy3d/plugins/mode/mode_solver.py\u001b\\\u001b[2mmode_solver.py\u001b[0m\u001b]8;;\u001b\\\u001b[2m:\u001b[0m\u001b]8;id=518115;file:///opt/conda/lib/python3.10/site-packages/tidy3d/plugins/mode/mode_solver.py#428\u001b\\\u001b[2m428\u001b[0m\u001b]8;;\u001b\\\n",
       "\u001b[2;36m           \u001b[0mboundaries.                                                                           \u001b[2m                  \u001b[0m\n"
      ]
     },
     "metadata": {},
     "output_type": "display_data"
    },
    {
     "data": {
      "text/html": [
       "<pre style=\"white-space:pre;overflow-x:auto;line-height:normal;font-family:Menlo,'DejaVu Sans Mono',consolas,'Courier New',monospace\"><span style=\"color: #7fbfbf; text-decoration-color: #7fbfbf\">[05:31:51] </span>WARNING: Mode field at frequency index <span style=\"color: #008080; text-decoration-color: #008080; font-weight: bold\">0</span>, mode index <span style=\"color: #008080; text-decoration-color: #008080; font-weight: bold\">2</span> does not decay at the plane    <a href=\"file:///opt/conda/lib/python3.10/site-packages/tidy3d/plugins/mode/mode_solver.py\" target=\"_blank\"><span style=\"color: #7f7f7f; text-decoration-color: #7f7f7f\">mode_solver.py</span></a><span style=\"color: #7f7f7f; text-decoration-color: #7f7f7f\">:</span><a href=\"file:///opt/conda/lib/python3.10/site-packages/tidy3d/plugins/mode/mode_solver.py#428\" target=\"_blank\"><span style=\"color: #7f7f7f; text-decoration-color: #7f7f7f\">428</span></a>\n",
       "<span style=\"color: #7fbfbf; text-decoration-color: #7fbfbf\">           </span>boundaries.                                                                           <span style=\"color: #7f7f7f; text-decoration-color: #7f7f7f\">                  </span>\n",
       "</pre>\n"
      ],
      "text/plain": [
       "\u001b[2;36m[05:31:51]\u001b[0m\u001b[2;36m \u001b[0mWARNING: Mode field at frequency index \u001b[1;36m0\u001b[0m, mode index \u001b[1;36m2\u001b[0m does not decay at the plane    \u001b]8;id=701360;file:///opt/conda/lib/python3.10/site-packages/tidy3d/plugins/mode/mode_solver.py\u001b\\\u001b[2mmode_solver.py\u001b[0m\u001b]8;;\u001b\\\u001b[2m:\u001b[0m\u001b]8;id=626390;file:///opt/conda/lib/python3.10/site-packages/tidy3d/plugins/mode/mode_solver.py#428\u001b\\\u001b[2m428\u001b[0m\u001b]8;;\u001b\\\n",
       "\u001b[2;36m           \u001b[0mboundaries.                                                                           \u001b[2m                  \u001b[0m\n"
      ]
     },
     "metadata": {},
     "output_type": "display_data"
    },
    {
     "data": {
      "text/html": [
       "<pre style=\"white-space:pre;overflow-x:auto;line-height:normal;font-family:Menlo,'DejaVu Sans Mono',consolas,'Courier New',monospace\"><span style=\"color: #7fbfbf; text-decoration-color: #7fbfbf\">           </span>WARNING: Mode field at frequency index <span style=\"color: #008080; text-decoration-color: #008080; font-weight: bold\">0</span>, mode index <span style=\"color: #008080; text-decoration-color: #008080; font-weight: bold\">3</span> does not decay at the plane    <a href=\"file:///opt/conda/lib/python3.10/site-packages/tidy3d/plugins/mode/mode_solver.py\" target=\"_blank\"><span style=\"color: #7f7f7f; text-decoration-color: #7f7f7f\">mode_solver.py</span></a><span style=\"color: #7f7f7f; text-decoration-color: #7f7f7f\">:</span><a href=\"file:///opt/conda/lib/python3.10/site-packages/tidy3d/plugins/mode/mode_solver.py#428\" target=\"_blank\"><span style=\"color: #7f7f7f; text-decoration-color: #7f7f7f\">428</span></a>\n",
       "<span style=\"color: #7fbfbf; text-decoration-color: #7fbfbf\">           </span>boundaries.                                                                           <span style=\"color: #7f7f7f; text-decoration-color: #7f7f7f\">                  </span>\n",
       "</pre>\n"
      ],
      "text/plain": [
       "\u001b[2;36m          \u001b[0m\u001b[2;36m \u001b[0mWARNING: Mode field at frequency index \u001b[1;36m0\u001b[0m, mode index \u001b[1;36m3\u001b[0m does not decay at the plane    \u001b]8;id=203225;file:///opt/conda/lib/python3.10/site-packages/tidy3d/plugins/mode/mode_solver.py\u001b\\\u001b[2mmode_solver.py\u001b[0m\u001b]8;;\u001b\\\u001b[2m:\u001b[0m\u001b]8;id=364737;file:///opt/conda/lib/python3.10/site-packages/tidy3d/plugins/mode/mode_solver.py#428\u001b\\\u001b[2m428\u001b[0m\u001b]8;;\u001b\\\n",
       "\u001b[2;36m           \u001b[0mboundaries.                                                                           \u001b[2m                  \u001b[0m\n"
      ]
     },
     "metadata": {},
     "output_type": "display_data"
    },
    {
     "data": {
      "application/vnd.jupyter.widget-view+json": {
       "model_id": "2ccf7ad6fb324b4f90b522cd7c5ddf98",
       "version_major": 2,
       "version_minor": 0
      },
      "text/plain": [
       "  0%|          | 0/10 [00:00<?, ?it/s]"
      ]
     },
     "metadata": {},
     "output_type": "display_data"
    }
   ],
   "source": [
    "strip = gt.modes.Waveguide(\n",
    "    wavelength=1.55,\n",
    "    core_width=1.0,\n",
    "    slab_thickness=0.0,\n",
    "    core_material=\"sin\",\n",
    "    clad_material=\"sio2\",\n",
    "    core_thickness=400 * nm,\n",
    "    num_modes=4,\n",
    ")\n",
    "\n",
    "light_line = 1.44\n",
    "w = np.linspace(200 * nm, 1100 * nm, 10)\n",
    "\n",
    "n_eff = gt.modes.sweep_n_eff(strip, core_width=w)\n",
    "te_pol = gt.modes._sweep(strip, \"TE_pol_fraction\", core_width=w)"
   ]
  },
  {
   "attachments": {},
   "cell_type": "markdown",
   "metadata": {},
   "source": [
    "And also plot the results:"
   ]
  },
  {
   "cell_type": "code",
   "execution_count": null,
   "metadata": {},
   "outputs": [
    {
     "data": {
      "image/png": "[encoded data removed]"
     },
     "metadata": {},
     "output_type": "display_data"
    },
    {
     "ename": "",
     "evalue": "",
     "output_type": "error",
     "traceback": [
      "\u001b[1;31mThe Kernel crashed while executing code in the the current cell or a previous cell. Please review the code in the cell(s) to identify a possible cause of the failure. Click <a href='https://aka.ms/vscodeJupyterKernelCrash'>here</a> for more info. View Jupyter <a href='command:jupyter.viewOutput'>log</a> for further details."
     ]
    }
   ],
   "source": [
    "plt.figure(figsize=(6,3))\n",
    "\n",
    "for i in range(4):\n",
    "    y = np.array(n_eff.sel(mode_index=i).real)\n",
    "    plt.plot(w, y, color=\"gray\")\n",
    "    y[y<light_line] = np.nan #do not consider polarization below the light line\n",
    "    plt.scatter(w, y, c = te_pol.sel(mode_index=i), cmap=\"jet\", vmin=0, vmax=1, label=f\"{i}\")\n",
    "    \n",
    "cbar = plt.colorbar(ticks=[0, 1])\n",
    "cbar.ax.set_yticklabels(['TM', 'TE'])\n",
    "\n",
    "plt.grid()\n",
    "plt.xlabel(\"Waveguide width [$\\mu$m]\")\n",
    "plt.ylabel(\"Effective Index\")\n",
    "plt.axhline(y=light_line, color=\"k\")\n",
    "plt.title(\"Effective index sweep\")"
   ]
  },
  {
   "attachments": {},
   "cell_type": "markdown",
   "metadata": {},
   "source": [
    "## Interpretation\n",
    "Two modes are guided for small widths (quasi TE and TM), and a third mode crosses the light line (refractive index of the background material) at a width of ca. 0.9um. This is the point below which the given silicon nitride waveguide becomes single mode in the conventional sense. It only supports a single mode of the qTE polarization of interest.\n",
    "A stricter definition of single mode exists in literature:\n",
    "> A single-polarization single-mode (SPSM) waveguide is a waveguide that is truly single-mode in the sense of supporting only a single guided-mode solution (rather than two or more, commonly corresponding to two polarizations as in standard “single-mode” fibers)\n",
    "- Lee et. al \"Design strategies and rigorous conditions for single-polarization single-mode waveguides\"\n",
    "\n",
    "This condition cannot be met using rectangular silicon nitride waveguides (see mentioned paper). Therefore I assume the question targeted the single mode regime in the conventional sense."
   ]
  },
  {
   "attachments": {},
   "cell_type": "markdown",
   "metadata": {},
   "source": [
    "## Notes\n",
    "Also note that the qTE and qTM modes cross (having a degeneracy in w=400nm). This degeneracy exists, as I am using a drastically simplified model of a perfectly rectangular waveguide (no sidewall angle) without BOX etc. To get more accurate results the simulated material properties should also be calibrated to the intended foundary process. This statement is valid for all questions and will not be repeated going forward.\n",
    "\n",
    "To color the modes according to their polarization I have monkey patched a property to determine the TE polarization fraction (Lumericals formula). I will create a PR later."
   ]
  },
  {
   "cell_type": "code",
   "execution_count": null,
   "metadata": {},
   "outputs": [],
   "source": [
    "#| hide\n",
    "import nbdev; nbdev.nbdev_export()"
   ]
  }
 ],
 "metadata": {
  "kernelspec": {
   "display_name": "python3",
   "language": "python",
   "name": "python3"
  }
 },
 "nbformat": 4,
 "nbformat_minor": 4
}

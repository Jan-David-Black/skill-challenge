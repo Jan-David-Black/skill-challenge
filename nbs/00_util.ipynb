{
 "cells": [
  {
   "attachments": {},
   "cell_type": "markdown",
   "metadata": {},
   "source": [
    "# util\n",
    "\n",
    "> utilities for use in the challenges"
   ]
  },
  {
   "cell_type": "code",
   "execution_count": null,
   "metadata": {},
   "outputs": [],
   "source": [
    "#| default_exp util"
   ]
  },
  {
   "cell_type": "code",
   "execution_count": null,
   "metadata": {},
   "outputs": [],
   "source": [
    "#| export\n",
    "# util functions go here\n",
    "import numpy as np\n",
    "import gdsfactory.simulation.gtidy3d as gt\n",
    "import matplotlib.pyplot as plt\n",
    "import gdsfactory as gf\n",
    "from tqdm.notebook import tqdm\n",
    "import meow as mw\n",
    "\n",
    "gf.config.rich_output()\n",
    "PDK = gf.generic_tech.get_generic_pdk()\n",
    "PDK.activate()\n",
    "\n",
    "nm = 1e-3"
   ]
  },
  {
   "cell_type": "code",
   "execution_count": null,
   "metadata": {},
   "outputs": [],
   "source": [
    "#|export\n",
    "def TE_pol_fraction(self):\n",
    "        \"\"\"TE polarization fraction according to Lumericals definition. (assuming a regular mesh)\"\"\"\n",
    "        Ex_sq = np.abs(self._data[\"Ex\"])**2\n",
    "        Ey_sq = np.abs(self._data[\"Ey\"])**2\n",
    "        \n",
    "        return np.sum(Ex_sq, axis=(0,1))/np.sum(Ex_sq+Ey_sq, axis=(0,1))\n"
   ]
  },
  {
   "cell_type": "code",
   "execution_count": null,
   "metadata": {},
   "outputs": [],
   "source": [
    "#|export\n",
    "#|hide\n",
    "setattr(gt.modes.Waveguide, 'TE_pol_fraction', property(TE_pol_fraction))"
   ]
  },
  {
   "attachments": {},
   "cell_type": "markdown",
   "metadata": {},
   "source": [
    "## Caching\n",
    "let's define some classes, that will allow us to efficiently cache the modes and interface s matrices"
   ]
  },
  {
   "cell_type": "code",
   "execution_count": null,
   "metadata": {},
   "outputs": [],
   "source": [
    "#| exporti\n",
    "import meow as mw\n",
    "from functools import lru_cache\n",
    "import json\n",
    "from hashlib import md5\n",
    "from meow import BaseModel, CrossSection, Mode\n",
    "from pydantic import Field"
   ]
  },
  {
   "cell_type": "code",
   "execution_count": null,
   "metadata": {},
   "outputs": [],
   "source": [
    "#| exporti\n",
    "def dict_to_hash(d: dict):\n",
    "  \"\"\"Converts a dictionary of distinctive properties into a hash using md5\"\"\"\n",
    "  arr = np.frombuffer(md5(json.dumps(d).encode()).digest(), dtype=np.uint8)[-8:]\n",
    "  idx = np.arange(arr.shape[0], dtype=np.int64)[::-1]\n",
    "  return np.asarray(np.sum(arr * 255**idx), dtype=np.int_).item()"
   ]
  },
  {
   "cell_type": "code",
   "execution_count": null,
   "metadata": {},
   "outputs": [],
   "source": [
    "#| export\n",
    "class cCrossSection(BaseModel):\n",
    "  cs: CrossSection = Field(\n",
    "    description=\"the contained CrossSection\"\n",
    "  )\n",
    "\n",
    "  def __hash__(self):\n",
    "    m = self.cs.cell.mx\n",
    "    return dict_to_hash(dict(r=self.cs.mesh.bend_radius, m=hash(m.tostring())))\n",
    "\n",
    "  def __eq__(self, other):\n",
    "    return hash(self) == hash(other)\n",
    "\n",
    "class cMode(BaseModel):\n",
    "  mode: Mode = Field(\n",
    "    description=\"the contained Mode\"\n",
    "  )\n",
    "  \n",
    "  def getMode(self) -> Mode:\n",
    "    return self.mode\n",
    "\n",
    "  def __hash__(self):\n",
    "    return dict_to_hash(dict(neff=str(self.mode.neff), r=str(self.mode.cs.mesh.bend_radius)))\n",
    "  \n",
    "  def __eq__(self, other):\n",
    "    return hash(self) == hash(other)"
   ]
  },
  {
   "cell_type": "code",
   "execution_count": null,
   "metadata": {},
   "outputs": [],
   "source": [
    "#| export\n",
    "@lru_cache(maxsize=None)\n",
    "def inner(ccs, num_modes):\n",
    "  return mw.compute_modes(ccs.cs, num_modes)\n",
    "\n",
    "def cachedComputeModes(cs, num_modes):\n",
    "  modes = inner(cCrossSection(cs=cs), num_modes)\n",
    "  return [mode.copy(update={'cs': cs}) for mode in modes]"
   ]
  },
  {
   "cell_type": "code",
   "execution_count": null,
   "metadata": {},
   "outputs": [],
   "source": [
    "#| hide\n",
    "import nbdev; nbdev.nbdev_export()"
   ]
  },
  {
   "cell_type": "code",
   "execution_count": null,
   "metadata": {},
   "outputs": [],
   "source": []
  }
 ],
 "metadata": {
  "kernelspec": {
   "display_name": "python3",
   "language": "python",
   "name": "python3"
  }
 },
 "nbformat": 4,
 "nbformat_minor": 4
}
